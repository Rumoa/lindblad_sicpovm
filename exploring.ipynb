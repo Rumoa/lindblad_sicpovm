{
 "cells": [
  {
   "cell_type": "code",
   "execution_count": 25,
   "metadata": {},
   "outputs": [],
   "source": [
    "import jax\n",
    "import jax.numpy as jnp\n",
    "import matplotlib.pyplot as plt\n",
    "from qdots_qll.models.game import get_SIC_POVM_4D\n",
    "import numpy as np\n",
    "\n",
    "import qutip as qt\n",
    "\n",
    "from jax.scipy.linalg import expm\n",
    "from jax import jit"
   ]
  },
  {
   "cell_type": "code",
   "execution_count": 10,
   "metadata": {},
   "outputs": [],
   "source": [
    "from qbism import sic_povm"
   ]
  },
  {
   "cell_type": "code",
   "execution_count": 11,
   "metadata": {},
   "outputs": [],
   "source": [
    "def dag(A):\n",
    "    return jnp.conjugate(A.T)\n",
    "\n",
    "\n",
    "def sprepost(A, B):\n",
    "    return jnp.kron(A, jnp.conjugate(B))\n",
    "\n",
    "\n",
    "def spre(A):\n",
    "    return sprepost(A, jnp.identity(2))\n",
    "\n",
    "\n",
    "def spost(A):\n",
    "    return sprepost(jnp.identity(2), A)\n",
    "\n",
    "\n",
    "# def vec(A):\n",
    "#     return A.flatten()\n",
    "def vec(A):\n",
    "    return A.flatten()\n",
    "    # return A.flatten()[:, jnp.newaxis]"
   ]
  },
  {
   "cell_type": "code",
   "execution_count": 12,
   "metadata": {},
   "outputs": [],
   "source": [
    "d = 2"
   ]
  },
  {
   "cell_type": "code",
   "execution_count": 13,
   "metadata": {},
   "outputs": [],
   "source": [
    "povm_arr = jnp.array(sic_povm(d)) * d"
   ]
  },
  {
   "cell_type": "code",
   "execution_count": 14,
   "metadata": {},
   "outputs": [
    {
     "name": "stdout",
     "output_type": "stream",
     "text": [
      "\u001b[0;31mSignature:\u001b[0m \u001b[0msic_povm\u001b[0m\u001b[0;34m(\u001b[0m\u001b[0md\u001b[0m\u001b[0;34m)\u001b[0m\u001b[0;34m\u001b[0m\u001b[0;34m\u001b[0m\u001b[0m\n",
      "\u001b[0;31mDocstring:\u001b[0m Returns a SIC-POVM of dimension $d$.\n",
      "\u001b[0;31mFile:\u001b[0m      ~/miniconda3/envs/jax/lib/python3.11/site-packages/qbism/sics.py\n",
      "\u001b[0;31mType:\u001b[0m      function"
     ]
    }
   ],
   "source": [
    "?sic_povm"
   ]
  },
  {
   "cell_type": "code",
   "execution_count": 15,
   "metadata": {},
   "outputs": [],
   "source": [
    "rng = np.random.default_rng(seed=1)"
   ]
  },
  {
   "cell_type": "code",
   "execution_count": 16,
   "metadata": {},
   "outputs": [],
   "source": [
    "A = rng.random([2, 2]) + 1j * rng.random([2, 2])\n",
    "B = rng.random([2, 2]) + 1j * rng.random([2, 2])\n",
    "C = rng.random([2, 2]) + 1j * rng.random([2, 2])"
   ]
  },
  {
   "cell_type": "code",
   "execution_count": 17,
   "metadata": {},
   "outputs": [
    {
     "data": {
      "text/plain": [
       "Array([1.1492252-0.04091862j, 1.6888942+0.01579123j,\n",
       "       0.9675945+0.25725535j, 1.3005437+0.55467325j], dtype=complex64)"
      ]
     },
     "execution_count": 17,
     "metadata": {},
     "output_type": "execute_result"
    }
   ],
   "source": [
    "vec(A @ B @ dag(C))"
   ]
  },
  {
   "cell_type": "code",
   "execution_count": 18,
   "metadata": {},
   "outputs": [
    {
     "data": {
      "text/plain": [
       "Array([1.1492252-0.04091859j, 1.6888943+0.01579124j,\n",
       "       0.9675946+0.25725538j, 1.3005437+0.5546732j ], dtype=complex64)"
      ]
     },
     "execution_count": 18,
     "metadata": {},
     "output_type": "execute_result"
    }
   ],
   "source": [
    "jnp.kron(A, jnp.conjugate(C)) @ vec(B)"
   ]
  },
  {
   "cell_type": "code",
   "execution_count": 19,
   "metadata": {},
   "outputs": [],
   "source": [
    "# def vec(A):\n",
    "#     return A.flatten()[:, np.newaxis]"
   ]
  },
  {
   "cell_type": "code",
   "execution_count": 20,
   "metadata": {},
   "outputs": [],
   "source": [
    "rho = qt.rand_dm(2, seed=1).full()"
   ]
  },
  {
   "cell_type": "code",
   "execution_count": 21,
   "metadata": {},
   "outputs": [],
   "source": [
    "K = (d + 1) * jnp.array([vec(pi) for pi in list(povm_arr)]).T - jnp.array(\n",
    "    [vec(jnp.identity(2))] * d**2\n",
    ").T"
   ]
  },
  {
   "cell_type": "code",
   "execution_count": 22,
   "metadata": {},
   "outputs": [],
   "source": [
    "K_inv = (jnp.array([dag(vec(pi)) for pi in list(povm_arr)])) / d"
   ]
  },
  {
   "cell_type": "code",
   "execution_count": 26,
   "metadata": {},
   "outputs": [],
   "source": [
    "@jit\n",
    "def _make_C(H, V):\n",
    "    return H - 1j / 2 * dag(V) @ V\n",
    "\n",
    "\n",
    "@jit\n",
    "def _make_Lambda(H, V):\n",
    "    return (\n",
    "        -1j * (spre(H) - spost(H))\n",
    "        + sprepost(V, dag(V))\n",
    "        - 0.5 * (spre(dag(V) @ V) + spost(dag(V) @ V))\n",
    "    )\n",
    "\n",
    "\n",
    "@jit\n",
    "def make_L(K, K_inv, H, V):\n",
    "    return K_inv @ _make_Lambda(H, V) @ K"
   ]
  },
  {
   "cell_type": "code",
   "execution_count": 58,
   "metadata": {},
   "outputs": [],
   "source": [
    "# V = jnp.sqrt(0.1) * qt.sigmap().full() * 1\n",
    "V = jnp.sqrt(0.1) * qt.sigmam().full() * 1"
   ]
  },
  {
   "cell_type": "code",
   "execution_count": 59,
   "metadata": {},
   "outputs": [],
   "source": [
    "rho0 = qt.ket2dm(qt.basis(2, 0)).full()"
   ]
  },
  {
   "cell_type": "code",
   "execution_count": 60,
   "metadata": {},
   "outputs": [],
   "source": [
    "omega = 0.5\n",
    "\n",
    "H = omega / 2 * qt.sigmax().full()"
   ]
  },
  {
   "cell_type": "code",
   "execution_count": 61,
   "metadata": {},
   "outputs": [],
   "source": [
    "L = make_L(K, K_inv, H, V)"
   ]
  },
  {
   "cell_type": "code",
   "execution_count": 62,
   "metadata": {},
   "outputs": [],
   "source": [
    "my_povm = jnp.array(\n",
    "    (qt.identity(2).full() + jnp.array([qt.sigmaz(), -qt.sigmaz()])) / 2\n",
    ")"
   ]
  },
  {
   "cell_type": "code",
   "execution_count": 63,
   "metadata": {},
   "outputs": [],
   "source": [
    "m = jnp.einsum(\"iljj\", jnp.einsum(\"ijk, lkn ->iljn\", my_povm, povm_arr))\n",
    "\n",
    "\n",
    "E = jnp.einsum(\"i, m -> im\", jnp.einsum(\"ijj\", my_povm), jnp.ones(d**2))\n",
    "\n",
    "M = (d + 1) * m - E"
   ]
  },
  {
   "cell_type": "code",
   "execution_count": 64,
   "metadata": {},
   "outputs": [],
   "source": [
    "def rho_to_psic(rho, povm_arr, d):\n",
    "    return jnp.einsum(\"ill\", jnp.einsum(\"ijk, kl -> ijl\", povm_arr, rho)) / d"
   ]
  },
  {
   "cell_type": "code",
   "execution_count": 65,
   "metadata": {},
   "outputs": [],
   "source": [
    "def psic_to_rho(p_arr, povm_arr, d):\n",
    "    K = (d + 1) * povm_arr - jnp.identity(2)\n",
    "    return jnp.einsum(\"ijk,i\", K, p_arr)"
   ]
  },
  {
   "cell_type": "code",
   "execution_count": 66,
   "metadata": {},
   "outputs": [],
   "source": [
    "P_0 = rho_to_psic(qt.ket2dm(qt.basis(2, 0)).full(), povm_arr, d)"
   ]
  },
  {
   "cell_type": "code",
   "execution_count": 67,
   "metadata": {},
   "outputs": [],
   "source": [
    "L = make_L(K, K_inv, H, V)"
   ]
  },
  {
   "cell_type": "code",
   "execution_count": 68,
   "metadata": {},
   "outputs": [],
   "source": [
    "times = jnp.linspace(0, 100, 1000)"
   ]
  },
  {
   "cell_type": "code",
   "execution_count": 69,
   "metadata": {},
   "outputs": [],
   "source": [
    "P_times = jax.vmap(lambda t: expm(L * t) @ P_0)(times)"
   ]
  },
  {
   "cell_type": "code",
   "execution_count": 70,
   "metadata": {},
   "outputs": [
    {
     "name": "stderr",
     "output_type": "stream",
     "text": [
      "/home/antonio/miniconda3/envs/jax/lib/python3.11/site-packages/jax/_src/array.py:377: ComplexWarning: Casting complex values to real discards the imaginary part\n",
      "  return np.asarray(self._value, dtype=dtype)\n"
     ]
    },
    {
     "data": {
      "image/png": "[encoded data removed]",
      "text/plain": [
       "<Figure size 640x480 with 1 Axes>"
      ]
     },
     "metadata": {},
     "output_type": "display_data"
    }
   ],
   "source": [
    "plt.plot(times, jax.vmap(lambda psic: M @ psic)(P_times).T[0])\n",
    "plt.plot(times, jax.vmap(lambda psic: M @ psic)(P_times).T[1])\n",
    "plt.xlim(0, 100)\n",
    "plt.show()"
   ]
  },
  {
   "cell_type": "code",
   "execution_count": 72,
   "metadata": {},
   "outputs": [],
   "source": [
    "import equinox as eqx"
   ]
  },
  {
   "cell_type": "code",
   "execution_count": 111,
   "metadata": {},
   "outputs": [],
   "source": [
    "@jit\n",
    "def sprepost(A, B):\n",
    "    return jnp.kron(A, jnp.conjugate(B))\n",
    "\n",
    "\n",
    "def make_K(d, povm_arr):\n",
    "    K = (d + 1) * jnp.array([vec(pi) for pi in list(povm_arr)]).T - jnp.array(\n",
    "        [vec(jnp.identity(d))] * d**2\n",
    "    ).T\n",
    "    return K\n",
    "\n",
    "\n",
    "def make_K_inv(d, povm_arr):\n",
    "    return (jnp.array([dag(vec(pi)) for pi in list(povm_arr)])) / d\n",
    "\n",
    "\n",
    "dimensions_list = [2, 3, 4, 5, 6, 7]\n",
    "dimensions_list_str = [str(i) for i in dimensions_list]\n",
    "\n",
    "\n",
    "list_sic_povm_arr = list(\n",
    "    [(lambda d: jnp.array(sic_povm(d)) * d)(d) for d in dimensions_list]\n",
    ")\n",
    "\n",
    "list_K_mat = []\n",
    "list_K_inv_mat = []\n",
    "for i in zip(dimensions_list, list_sic_povm_arr):\n",
    "    list_K_mat.append(make_K(*i))\n",
    "    list_K_inv_mat.append(make_K_inv(*i))\n",
    "\n",
    "sic_povm_dictionary = dict(\n",
    "    map(lambda i, j: (i, j), dimensions_list_str, list_sic_povm_arr)\n",
    ")\n",
    "\n",
    "K_mat_dictionary = dict(\n",
    "    map(lambda i, j: (i, j), dimensions_list_str, list_K_mat)\n",
    ")\n",
    "\n",
    "K_inv_mat_dictionary = dict(\n",
    "    map(lambda i, j: (i, j), dimensions_list_str, list_K_inv_mat)\n",
    ")"
   ]
  },
  {
   "cell_type": "code",
   "execution_count": 116,
   "metadata": {},
   "outputs": [],
   "source": [
    "class sic_povm_model(eqx.Module):\n",
    "    d: int\n",
    "    md: jnp.array\n",
    "    sic_povm_arr: jnp.array\n",
    "    K_mat: jnp.array\n",
    "    K_inv_mat: jnp.array\n",
    "\n",
    "    def __init__(self, d):\n",
    "        self.d = d\n",
    "        self.md = jnp.ones([d, d])\n",
    "        self.sic_povm_arr = sic_povm_dictionary[str(d)]\n",
    "        self.K_mat = K_mat_dictionary[str(d)]\n",
    "        self.K_inv_mat = K_inv_mat_dictionary[str(d)]\n",
    "\n",
    "    @jit\n",
    "    def example_f(self):\n",
    "        return jnp.identity(d)\n",
    "\n",
    "    @jit\n",
    "    def spre(self, A):\n",
    "        return sprepost(A, jnp.identity(self.md.shape[0]))\n",
    "\n",
    "    @jit\n",
    "    def spost(self, A):\n",
    "        return sprepost(jnp.identity(self.md.shape[0]), A)"
   ]
  },
  {
   "cell_type": "code",
   "execution_count": 267,
   "metadata": {},
   "outputs": [],
   "source": [
    "class my_model(sic_povm_model):\n",
    "    number_of_parameters: int\n",
    "    omega: float\n",
    "    gamma: float\n",
    "    rho_0: jnp.array\n",
    "    P_0: jnp.array\n",
    "    measurement_POVM: jnp.array\n",
    "    M: jnp.array\n",
    "\n",
    "    def __init__(self, d, rho_0, measurement_POVM):\n",
    "        super().__init__(d)\n",
    "        self.number_of_parameters = 2\n",
    "        self.omega = 0.5\n",
    "        self.gamma = 0.1\n",
    "        self.rho_0 = rho_0\n",
    "        self.P_0 = self.rho_to_psic(rho_0)\n",
    "        self.measurement_POVM = measurement_POVM\n",
    "        self.M = self.M_sic_to_mypovm(self.measurement_POVM)\n",
    "\n",
    "    @jit\n",
    "    def make_H0(self):\n",
    "        return jnp.array([[0, 1], [1, 0]])\n",
    "\n",
    "    @jit\n",
    "    def make_dissipator(self):\n",
    "        V = jnp.array([[1, 0], [0, 0]])\n",
    "        return sprepost(V, dag(V)) - 0.5 * (\n",
    "            spre(dag(V) @ V) + spost(dag(V) @ V)\n",
    "        )\n",
    "\n",
    "    @jit\n",
    "    def M_sic_to_mypovm(self, my_povm):\n",
    "        d = self.md.shape[0]\n",
    "        m = jnp.einsum(\n",
    "            \"iljj\", jnp.einsum(\"ijk, lkn ->iljn\", my_povm, self.sic_povm_arr)\n",
    "        )\n",
    "        E = jnp.einsum(\n",
    "            \"i, m -> im\", jnp.einsum(\"ijj\", my_povm), jnp.ones(d**2)\n",
    "        )\n",
    "        M = (d + 1) * m - E\n",
    "        return M\n",
    "\n",
    "    @jit\n",
    "    def rho_to_psic(self, rho):\n",
    "        d = self.md.shape[0]\n",
    "        povm_arr = self.sic_povm_arr\n",
    "        return (\n",
    "            jnp.einsum(\"ill\", jnp.einsum(\"ijk, kl -> ijl\", povm_arr, rho)) / d\n",
    "        )\n",
    "\n",
    "    @jit\n",
    "    def sic_to_povm(self, sicP):\n",
    "        M = self.M\n",
    "        return M @ sicP\n",
    "\n",
    "    @jit\n",
    "    def psic_to_rho(self, p_array):\n",
    "        d = self.md.shape[0]\n",
    "        povm_arr = self.sic_povm_arr\n",
    "        K = (d + 1) * povm_arr - jnp.identity(2)\n",
    "        return jnp.einsum(\"ijk,i\", K, p_array)\n",
    "\n",
    "    @jit\n",
    "    def make_L(self, particle):\n",
    "        omega = particle[0]\n",
    "        gamma = particle[1]\n",
    "        H = omega * self.make_H0()\n",
    "        D = gamma * self.make_dissipator()\n",
    "        return -1j * (spre(H) - spost(H)) + D\n",
    "\n",
    "    @jit\n",
    "    def make_LP(self, particle):\n",
    "        L = self.make_L(particle)\n",
    "\n",
    "        return self.K_inv_mat @ L @ self.K_mat\n",
    "\n",
    "    # TODO Make the function that computes P safe.\n",
    "    @jit\n",
    "    def likelihood_sic_particle(self, particle, t):\n",
    "        L = self.make_LP(particle)\n",
    "        return jnp.real(expm(L * t) @ self.P_0)\n",
    "\n",
    "    @jit\n",
    "    def likelihood_povm_particle(self, particle, t):\n",
    "        evolved_Psic = self.likelihood_sic_particle(particle, t)\n",
    "\n",
    "        return jnp.real(self.sic_to_povm(evolved_Psic))\n",
    "\n",
    "    # @jit\n",
    "    # def fim_sic(self, particle, t):\n",
    "    #     \"\"\"Given a particle and time, computes the Fisher Information Matrix\n",
    "\n",
    "    #     Args:\n",
    "    #         particle (_type_): (j)np array of particle\n",
    "    #         t (_type_): time\n",
    "\n",
    "    #     Returns:\n",
    "    #         _type_: _description_\n",
    "    #     \"\"\"\n",
    "    #     jacobian = jax.jacobian(self.likelihood_sic_particle, 0)(particle, t)\n",
    "    #     lkl = self.likelihood_sic_particle(particle, t)\n",
    "    #     return jnp.einsum(\"ij, ik, i -> jk\", jacobian, jacobian, 1 / lkl)\n",
    "\n",
    "    # @jit\n",
    "    # def fim_povm(self, particle, t):\n",
    "    #     jacobian = jax.jacobian(self.likelihood_povm_particle, 0)(particle, t)\n",
    "    #     lkl = self.likelihood_povm_particle(particle, t)\n",
    "    #     return jnp.einsum(\"ij, ik, i -> jk\", jacobian, jacobian, 1 / lkl)\n",
    "\n",
    "    # @jit\n",
    "    # def log_lkl_sic_particle(self, particle, t):\n",
    "    #     L = self.make_LP(particle)\n",
    "    #     return (L * t) + jnp.log(  self.P_0)"
   ]
  },
  {
   "cell_type": "code",
   "execution_count": 268,
   "metadata": {},
   "outputs": [
    {
     "data": {
      "text/plain": [
       "Array([[[1.+0.j, 0.+0.j],\n",
       "        [0.+0.j, 0.+0.j]],\n",
       "\n",
       "       [[0.+0.j, 0.+0.j],\n",
       "        [0.+0.j, 1.+0.j]]], dtype=complex64)"
      ]
     },
     "execution_count": 268,
     "metadata": {},
     "output_type": "execute_result"
    }
   ],
   "source": [
    "my_povm"
   ]
  },
  {
   "cell_type": "code",
   "execution_count": 269,
   "metadata": {},
   "outputs": [],
   "source": [
    "model = my_model(2, rho0, my_povm)"
   ]
  },
  {
   "cell_type": "code",
   "execution_count": 265,
   "metadata": {},
   "outputs": [
    {
     "ename": "TypeError",
     "evalue": "my_model.fim_povm() missing 2 required positional arguments: 'particle' and 't'",
     "output_type": "error",
     "traceback": [
      "\u001b[0;31m---------------------------------------------------------------------------\u001b[0m",
      "\u001b[0;31mTypeError\u001b[0m                                 Traceback (most recent call last)",
      "Cell \u001b[0;32mIn[265], line 1\u001b[0m\n\u001b[0;32m----> 1\u001b[0m \u001b[43mmodel\u001b[49m\u001b[38;5;241;43m.\u001b[39;49m\u001b[43mfim_povm\u001b[49m\u001b[43m(\u001b[49m\u001b[43m)\u001b[49m\n",
      "    \u001b[0;31m[... skipping hidden 11 frame]\u001b[0m\n",
      "File \u001b[0;32m~/miniconda3/envs/jax/lib/python3.11/site-packages/jax/_src/linear_util.py:191\u001b[0m, in \u001b[0;36mWrappedFun.call_wrapped\u001b[0;34m(self, *args, **kwargs)\u001b[0m\n\u001b[1;32m    188\u001b[0m gen \u001b[38;5;241m=\u001b[39m gen_static_args \u001b[38;5;241m=\u001b[39m out_store \u001b[38;5;241m=\u001b[39m \u001b[38;5;28;01mNone\u001b[39;00m\n\u001b[1;32m    190\u001b[0m \u001b[38;5;28;01mtry\u001b[39;00m:\n\u001b[0;32m--> 191\u001b[0m   ans \u001b[38;5;241m=\u001b[39m \u001b[38;5;28;43mself\u001b[39;49m\u001b[38;5;241;43m.\u001b[39;49m\u001b[43mf\u001b[49m\u001b[43m(\u001b[49m\u001b[38;5;241;43m*\u001b[39;49m\u001b[43margs\u001b[49m\u001b[43m,\u001b[49m\u001b[43m \u001b[49m\u001b[38;5;241;43m*\u001b[39;49m\u001b[38;5;241;43m*\u001b[39;49m\u001b[38;5;28;43mdict\u001b[39;49m\u001b[43m(\u001b[49m\u001b[38;5;28;43mself\u001b[39;49m\u001b[38;5;241;43m.\u001b[39;49m\u001b[43mparams\u001b[49m\u001b[43m,\u001b[49m\u001b[43m \u001b[49m\u001b[38;5;241;43m*\u001b[39;49m\u001b[38;5;241;43m*\u001b[39;49m\u001b[43mkwargs\u001b[49m\u001b[43m)\u001b[49m\u001b[43m)\u001b[49m\n\u001b[1;32m    192\u001b[0m \u001b[38;5;28;01mexcept\u001b[39;00m:\n\u001b[1;32m    193\u001b[0m   \u001b[38;5;66;03m# Some transformations yield from inside context managers, so we have to\u001b[39;00m\n\u001b[1;32m    194\u001b[0m   \u001b[38;5;66;03m# interrupt them before reraising the exception. Otherwise they will only\u001b[39;00m\n\u001b[1;32m    195\u001b[0m   \u001b[38;5;66;03m# get garbage-collected at some later time, running their cleanup tasks\u001b[39;00m\n\u001b[1;32m    196\u001b[0m   \u001b[38;5;66;03m# only after this exception is handled, which can corrupt the global\u001b[39;00m\n\u001b[1;32m    197\u001b[0m   \u001b[38;5;66;03m# state.\u001b[39;00m\n\u001b[1;32m    198\u001b[0m   \u001b[38;5;28;01mwhile\u001b[39;00m stack:\n",
      "\u001b[0;31mTypeError\u001b[0m: my_model.fim_povm() missing 2 required positional arguments: 'particle' and 't'"
     ]
    }
   ],
   "source": [
    "model.fim_povm()"
   ]
  },
  {
   "cell_type": "code",
   "execution_count": 266,
   "metadata": {},
   "outputs": [
    {
     "name": "stderr",
     "output_type": "stream",
     "text": [
      "/home/antonio/miniconda3/envs/jax/lib/python3.11/site-packages/jax/_src/lax/lax.py:2652: ComplexWarning: Casting complex values to real discards the imaginary part\n",
      "  x_bar = _convert_element_type(x_bar, x.aval.dtype, x.aval.weak_type)\n"
     ]
    },
    {
     "ename": "TracerArrayConversionError",
     "evalue": "The numpy.ndarray conversion method __array__() was called on traced array with shape float32[2].\nThe error occurred while tracing the function fim_povm at /tmp/ipykernel_57913/106372030.py:103 for jit. This concrete value was not available in Python because it depends on the values of the arguments self.d, self.md, self.sic_povm_arr, self.K_mat, self.K_inv_mat, self.number_of_parameters, self.omega, self.gamma, self.rho_0, self.P_0, self.measurement_POVM, self.M, particle[0], particle[1], and t.\nSee https://jax.readthedocs.io/en/latest/errors.html#jax.errors.TracerArrayConversionError",
     "output_type": "error",
     "traceback": [
      "\u001b[0;31m---------------------------------------------------------------------------\u001b[0m",
      "\u001b[0;31mAttributeError\u001b[0m                            Traceback (most recent call last)",
      "File \u001b[0;32m~/miniconda3/envs/jax/lib/python3.11/site-packages/numpy/core/fromnumeric.py:2033\u001b[0m, in \u001b[0;36mshape\u001b[0;34m(a)\u001b[0m\n\u001b[1;32m   2032\u001b[0m \u001b[38;5;28;01mtry\u001b[39;00m:\n\u001b[0;32m-> 2033\u001b[0m     result \u001b[38;5;241m=\u001b[39m \u001b[43ma\u001b[49m\u001b[38;5;241;43m.\u001b[39;49m\u001b[43mshape\u001b[49m\n\u001b[1;32m   2034\u001b[0m \u001b[38;5;28;01mexcept\u001b[39;00m \u001b[38;5;167;01mAttributeError\u001b[39;00m:\n",
      "\u001b[0;31mAttributeError\u001b[0m: 'list' object has no attribute 'shape'",
      "\nDuring handling of the above exception, another exception occurred:\n",
      "\u001b[0;31mTracerArrayConversionError\u001b[0m                Traceback (most recent call last)",
      "Cell \u001b[0;32mIn[266], line 1\u001b[0m\n\u001b[0;32m----> 1\u001b[0m \u001b[43mmodel\u001b[49m\u001b[38;5;241;43m.\u001b[39;49m\u001b[43mfim_povm\u001b[49m\u001b[43m(\u001b[49m\u001b[43m[\u001b[49m\u001b[43mmodel\u001b[49m\u001b[38;5;241;43m.\u001b[39;49m\u001b[43momega\u001b[49m\u001b[43m,\u001b[49m\u001b[43m \u001b[49m\u001b[43mmodel\u001b[49m\u001b[38;5;241;43m.\u001b[39;49m\u001b[43mgamma\u001b[49m\u001b[43m]\u001b[49m\u001b[43m,\u001b[49m\u001b[43m \u001b[49m\u001b[38;5;241;43m3\u001b[39;49m\u001b[43m)\u001b[49m\n",
      "    \u001b[0;31m[... skipping hidden 12 frame]\u001b[0m\n",
      "Cell \u001b[0;32mIn[262], line 107\u001b[0m, in \u001b[0;36mmy_model.fim_povm\u001b[0;34m(self, particle, t)\u001b[0m\n\u001b[1;32m    105\u001b[0m jacobian \u001b[38;5;241m=\u001b[39m jax\u001b[38;5;241m.\u001b[39mjacobian(\u001b[38;5;28mself\u001b[39m\u001b[38;5;241m.\u001b[39mlikelihood_povm_particle, \u001b[38;5;241m0\u001b[39m)(particle, t)\n\u001b[1;32m    106\u001b[0m lkl \u001b[38;5;241m=\u001b[39m \u001b[38;5;28mself\u001b[39m\u001b[38;5;241m.\u001b[39mlikelihood_povm_particle(particle, t)\n\u001b[0;32m--> 107\u001b[0m \u001b[38;5;28;01mreturn\u001b[39;00m \u001b[43mjnp\u001b[49m\u001b[38;5;241;43m.\u001b[39;49m\u001b[43meinsum\u001b[49m\u001b[43m(\u001b[49m\u001b[38;5;124;43m\"\u001b[39;49m\u001b[38;5;124;43mij, ik, i -> jk\u001b[39;49m\u001b[38;5;124;43m\"\u001b[39;49m\u001b[43m,\u001b[49m\u001b[43m \u001b[49m\u001b[43mjacobian\u001b[49m\u001b[43m,\u001b[49m\u001b[43m \u001b[49m\u001b[43mjacobian\u001b[49m\u001b[43m,\u001b[49m\u001b[43m \u001b[49m\u001b[38;5;241;43m1\u001b[39;49m\u001b[43m \u001b[49m\u001b[38;5;241;43m/\u001b[39;49m\u001b[43m \u001b[49m\u001b[43mlkl\u001b[49m\u001b[43m)\u001b[49m\n",
      "File \u001b[0;32m~/miniconda3/envs/jax/lib/python3.11/site-packages/jax/_src/numpy/lax_numpy.py:3353\u001b[0m, in \u001b[0;36meinsum\u001b[0;34m(subscripts, out, optimize, precision, preferred_element_type, _use_xeinsum, _dot_general, *operands)\u001b[0m\n\u001b[1;32m   3349\u001b[0m optimize \u001b[38;5;241m=\u001b[39m \u001b[38;5;124m'\u001b[39m\u001b[38;5;124moptimal\u001b[39m\u001b[38;5;124m'\u001b[39m \u001b[38;5;28;01mif\u001b[39;00m optimize \u001b[38;5;129;01mis\u001b[39;00m \u001b[38;5;28;01mTrue\u001b[39;00m \u001b[38;5;28;01melse\u001b[39;00m optimize\n\u001b[1;32m   3350\u001b[0m \u001b[38;5;66;03m# using einsum_call=True here is an internal api for opt_einsum\u001b[39;00m\n\u001b[1;32m   3351\u001b[0m \n\u001b[1;32m   3352\u001b[0m \u001b[38;5;66;03m# Allow handling of shape polymorphism\u001b[39;00m\n\u001b[0;32m-> 3353\u001b[0m non_constant_dim_types \u001b[38;5;241m=\u001b[39m \u001b[43m{\u001b[49m\n\u001b[1;32m   3354\u001b[0m \u001b[43m    \u001b[49m\u001b[38;5;28;43mtype\u001b[39;49m\u001b[43m(\u001b[49m\u001b[43md\u001b[49m\u001b[43m)\u001b[49m\u001b[43m \u001b[49m\u001b[38;5;28;43;01mfor\u001b[39;49;00m\u001b[43m \u001b[49m\u001b[43mop\u001b[49m\u001b[43m \u001b[49m\u001b[38;5;129;43;01min\u001b[39;49;00m\u001b[43m \u001b[49m\u001b[43moperands\u001b[49m\u001b[43m \u001b[49m\u001b[38;5;28;43;01mif\u001b[39;49;00m\u001b[43m \u001b[49m\u001b[38;5;129;43;01mnot\u001b[39;49;00m\u001b[43m \u001b[49m\u001b[38;5;28;43misinstance\u001b[39;49m\u001b[43m(\u001b[49m\u001b[43mop\u001b[49m\u001b[43m,\u001b[49m\u001b[43m \u001b[49m\u001b[38;5;28;43mstr\u001b[39;49m\u001b[43m)\u001b[49m\n\u001b[1;32m   3355\u001b[0m \u001b[43m    \u001b[49m\u001b[38;5;28;43;01mfor\u001b[39;49;00m\u001b[43m \u001b[49m\u001b[43md\u001b[49m\u001b[43m \u001b[49m\u001b[38;5;129;43;01min\u001b[39;49;00m\u001b[43m \u001b[49m\u001b[43mnp\u001b[49m\u001b[38;5;241;43m.\u001b[39;49m\u001b[43mshape\u001b[49m\u001b[43m(\u001b[49m\u001b[43mop\u001b[49m\u001b[43m)\u001b[49m\u001b[43m \u001b[49m\u001b[38;5;28;43;01mif\u001b[39;49;00m\u001b[43m \u001b[49m\u001b[38;5;129;43;01mnot\u001b[39;49;00m\u001b[43m \u001b[49m\u001b[43mcore\u001b[49m\u001b[38;5;241;43m.\u001b[39;49m\u001b[43mis_constant_dim\u001b[49m\u001b[43m(\u001b[49m\u001b[43md\u001b[49m\u001b[43m)\u001b[49m\n\u001b[1;32m   3356\u001b[0m \u001b[43m\u001b[49m\u001b[43m}\u001b[49m\n\u001b[1;32m   3357\u001b[0m \u001b[38;5;28;01mif\u001b[39;00m \u001b[38;5;129;01mnot\u001b[39;00m non_constant_dim_types:\n\u001b[1;32m   3358\u001b[0m   contract_path \u001b[38;5;241m=\u001b[39m opt_einsum\u001b[38;5;241m.\u001b[39mcontract_path\n",
      "File \u001b[0;32m~/miniconda3/envs/jax/lib/python3.11/site-packages/jax/_src/numpy/lax_numpy.py:3355\u001b[0m, in \u001b[0;36m<setcomp>\u001b[0;34m(.0)\u001b[0m\n\u001b[1;32m   3349\u001b[0m optimize \u001b[38;5;241m=\u001b[39m \u001b[38;5;124m'\u001b[39m\u001b[38;5;124moptimal\u001b[39m\u001b[38;5;124m'\u001b[39m \u001b[38;5;28;01mif\u001b[39;00m optimize \u001b[38;5;129;01mis\u001b[39;00m \u001b[38;5;28;01mTrue\u001b[39;00m \u001b[38;5;28;01melse\u001b[39;00m optimize\n\u001b[1;32m   3350\u001b[0m \u001b[38;5;66;03m# using einsum_call=True here is an internal api for opt_einsum\u001b[39;00m\n\u001b[1;32m   3351\u001b[0m \n\u001b[1;32m   3352\u001b[0m \u001b[38;5;66;03m# Allow handling of shape polymorphism\u001b[39;00m\n\u001b[1;32m   3353\u001b[0m non_constant_dim_types \u001b[38;5;241m=\u001b[39m {\n\u001b[1;32m   3354\u001b[0m     \u001b[38;5;28mtype\u001b[39m(d) \u001b[38;5;28;01mfor\u001b[39;00m op \u001b[38;5;129;01min\u001b[39;00m operands \u001b[38;5;28;01mif\u001b[39;00m \u001b[38;5;129;01mnot\u001b[39;00m \u001b[38;5;28misinstance\u001b[39m(op, \u001b[38;5;28mstr\u001b[39m)\n\u001b[0;32m-> 3355\u001b[0m     \u001b[38;5;28;01mfor\u001b[39;00m d \u001b[38;5;129;01min\u001b[39;00m \u001b[43mnp\u001b[49m\u001b[38;5;241;43m.\u001b[39;49m\u001b[43mshape\u001b[49m\u001b[43m(\u001b[49m\u001b[43mop\u001b[49m\u001b[43m)\u001b[49m \u001b[38;5;28;01mif\u001b[39;00m \u001b[38;5;129;01mnot\u001b[39;00m core\u001b[38;5;241m.\u001b[39mis_constant_dim(d)\n\u001b[1;32m   3356\u001b[0m }\n\u001b[1;32m   3357\u001b[0m \u001b[38;5;28;01mif\u001b[39;00m \u001b[38;5;129;01mnot\u001b[39;00m non_constant_dim_types:\n\u001b[1;32m   3358\u001b[0m   contract_path \u001b[38;5;241m=\u001b[39m opt_einsum\u001b[38;5;241m.\u001b[39mcontract_path\n",
      "File \u001b[0;32m<__array_function__ internals>:200\u001b[0m, in \u001b[0;36mshape\u001b[0;34m(*args, **kwargs)\u001b[0m\n",
      "File \u001b[0;32m~/miniconda3/envs/jax/lib/python3.11/site-packages/numpy/core/fromnumeric.py:2035\u001b[0m, in \u001b[0;36mshape\u001b[0;34m(a)\u001b[0m\n\u001b[1;32m   2033\u001b[0m     result \u001b[38;5;241m=\u001b[39m a\u001b[38;5;241m.\u001b[39mshape\n\u001b[1;32m   2034\u001b[0m \u001b[38;5;28;01mexcept\u001b[39;00m \u001b[38;5;167;01mAttributeError\u001b[39;00m:\n\u001b[0;32m-> 2035\u001b[0m     result \u001b[38;5;241m=\u001b[39m asarray(a)\u001b[38;5;241m.\u001b[39mshape\n\u001b[1;32m   2036\u001b[0m \u001b[38;5;28;01mreturn\u001b[39;00m result\n",
      "File \u001b[0;32m~/miniconda3/envs/jax/lib/python3.11/site-packages/jax/_src/core.py:640\u001b[0m, in \u001b[0;36mTracer.__array__\u001b[0;34m(self, *args, **kw)\u001b[0m\n\u001b[1;32m    639\u001b[0m \u001b[38;5;28;01mdef\u001b[39;00m \u001b[38;5;21m__array__\u001b[39m(\u001b[38;5;28mself\u001b[39m, \u001b[38;5;241m*\u001b[39margs, \u001b[38;5;241m*\u001b[39m\u001b[38;5;241m*\u001b[39mkw):\n\u001b[0;32m--> 640\u001b[0m   \u001b[38;5;28;01mraise\u001b[39;00m TracerArrayConversionError(\u001b[38;5;28mself\u001b[39m)\n",
      "\u001b[0;31mTracerArrayConversionError\u001b[0m: The numpy.ndarray conversion method __array__() was called on traced array with shape float32[2].\nThe error occurred while tracing the function fim_povm at /tmp/ipykernel_57913/106372030.py:103 for jit. This concrete value was not available in Python because it depends on the values of the arguments self.d, self.md, self.sic_povm_arr, self.K_mat, self.K_inv_mat, self.number_of_parameters, self.omega, self.gamma, self.rho_0, self.P_0, self.measurement_POVM, self.M, particle[0], particle[1], and t.\nSee https://jax.readthedocs.io/en/latest/errors.html#jax.errors.TracerArrayConversionError"
     ]
    }
   ],
   "source": [
    "model.fim_povm([model.omega, model.gamma], 3)"
   ]
  },
  {
   "cell_type": "code",
   "execution_count": 270,
   "metadata": {},
   "outputs": [],
   "source": [
    "times = jnp.linspace(0, 150, 2000)"
   ]
  },
  {
   "cell_type": "code",
   "execution_count": 271,
   "metadata": {},
   "outputs": [
    {
     "data": {
      "image/png": "[encoded data removed]",
      "text/plain": [
       "<Figure size 640x480 with 1 Axes>"
      ]
     },
     "metadata": {},
     "output_type": "display_data"
    }
   ],
   "source": [
    "plt.plot(\n",
    "    times,\n",
    "    jnp.real(\n",
    "        jax.vmap(\n",
    "            lambda t: model.likelihood_povm_particle(\n",
    "                [model.omega, 1.1 * model.gamma], t\n",
    "            )[0]\n",
    "        )(times)\n",
    "    ),\n",
    ")\n",
    "plt.show()"
   ]
  },
  {
   "cell_type": "code",
   "execution_count": null,
   "metadata": {},
   "outputs": [],
   "source": []
  }
 ],
 "metadata": {
  "kernelspec": {
   "display_name": "jax",
   "language": "python",
   "name": "python3"
  },
  "language_info": {
   "codemirror_mode": {
    "name": "ipython",
    "version": 3
   },
   "file_extension": ".py",
   "mimetype": "text/x-python",
   "name": "python",
   "nbconvert_exporter": "python",
   "pygments_lexer": "ipython3",
   "version": "3.11.0"
  }
 },
 "nbformat": 4,
 "nbformat_minor": 2
}
