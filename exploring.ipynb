{
 "cells": [
  {
   "cell_type": "code",
   "execution_count": 62,
   "metadata": {},
   "outputs": [],
   "source": [
    "import jax\n",
    "import jax.numpy as jnp\n",
    "import matplotlib.pyplot as plt\n",
    "from qdots_qll.models.game import get_SIC_POVM_4D\n",
    "\n",
    "import qutip as qt"
   ]
  },
  {
   "cell_type": "code",
   "execution_count": 27,
   "metadata": {},
   "outputs": [],
   "source": [
    "from qbism import sic_povm"
   ]
  },
  {
   "cell_type": "code",
   "execution_count": 145,
   "metadata": {},
   "outputs": [],
   "source": [
    "def dag(A):\n",
    "    return jnp.conjugate(A.T)\n",
    "\n",
    "\n",
    "def sprepost(A, B):\n",
    "    return jnp.kron(A, jnp.conjugate(B))\n",
    "\n",
    "\n",
    "def spre(A):\n",
    "    return sprepost(A, jnp.identity(2))\n",
    "\n",
    "\n",
    "def spost(A):\n",
    "    return sprepost(jnp.identity(2), A)\n",
    "\n",
    "\n",
    "# def vec(A):\n",
    "#     return A.flatten()\n",
    "def vec(A):\n",
    "    return A.flatten()\n",
    "    # return A.flatten()[:, jnp.newaxis]"
   ]
  },
  {
   "cell_type": "code",
   "execution_count": 99,
   "metadata": {},
   "outputs": [],
   "source": [
    "d = 2"
   ]
  },
  {
   "cell_type": "code",
   "execution_count": 421,
   "metadata": {},
   "outputs": [],
   "source": [
    "povm_arr = jnp.array(sic_povm(d)) * d"
   ]
  },
  {
   "cell_type": "code",
   "execution_count": 422,
   "metadata": {},
   "outputs": [
    {
     "name": "stdout",
     "output_type": "stream",
     "text": [
      "\u001b[0;31mSignature:\u001b[0m \u001b[0msic_povm\u001b[0m\u001b[0;34m(\u001b[0m\u001b[0md\u001b[0m\u001b[0;34m)\u001b[0m\u001b[0;34m\u001b[0m\u001b[0;34m\u001b[0m\u001b[0m\n",
      "\u001b[0;31mDocstring:\u001b[0m Returns a SIC-POVM of dimension $d$.\n",
      "\u001b[0;31mFile:\u001b[0m      ~/miniconda3/envs/jax/lib/python3.11/site-packages/qbism/sics.py\n",
      "\u001b[0;31mType:\u001b[0m      function"
     ]
    }
   ],
   "source": [
    "?sic_povm"
   ]
  },
  {
   "cell_type": "code",
   "execution_count": 423,
   "metadata": {},
   "outputs": [],
   "source": [
    "rng = np.random.default_rng(seed=1)"
   ]
  },
  {
   "cell_type": "code",
   "execution_count": 424,
   "metadata": {},
   "outputs": [],
   "source": [
    "A = rng.random([2, 2]) + 1j * rng.random([2, 2])\n",
    "B = rng.random([2, 2]) + 1j * rng.random([2, 2])\n",
    "C = rng.random([2, 2]) + 1j * rng.random([2, 2])"
   ]
  },
  {
   "cell_type": "code",
   "execution_count": 425,
   "metadata": {},
   "outputs": [
    {
     "data": {
      "text/plain": [
       "Array([1.1492252-0.04091862j, 1.6888942+0.01579123j,\n",
       "       0.9675945+0.25725535j, 1.3005437+0.55467325j], dtype=complex64)"
      ]
     },
     "execution_count": 425,
     "metadata": {},
     "output_type": "execute_result"
    }
   ],
   "source": [
    "vec(A @ B @ dag(C))"
   ]
  },
  {
   "cell_type": "code",
   "execution_count": 426,
   "metadata": {},
   "outputs": [
    {
     "data": {
      "text/plain": [
       "Array([1.1492252-0.04091859j, 1.6888943+0.01579124j,\n",
       "       0.9675946+0.25725538j, 1.3005437+0.5546732j ], dtype=complex64)"
      ]
     },
     "execution_count": 426,
     "metadata": {},
     "output_type": "execute_result"
    }
   ],
   "source": [
    "jnp.kron(A, jnp.conjugate(C)) @ vec(B)"
   ]
  },
  {
   "cell_type": "code",
   "execution_count": 427,
   "metadata": {},
   "outputs": [],
   "source": [
    "# def vec(A):\n",
    "#     return A.flatten()[:, np.newaxis]"
   ]
  },
  {
   "cell_type": "code",
   "execution_count": 428,
   "metadata": {},
   "outputs": [],
   "source": [
    "rho = qt.rand_dm(2, seed=1).full()"
   ]
  },
  {
   "cell_type": "code",
   "execution_count": 429,
   "metadata": {},
   "outputs": [],
   "source": [
    "K = (d + 1) * jnp.array([vec(pi) for pi in list(povm_arr)]).T - jnp.array(\n",
    "    [vec(jnp.identity(2))] * d**2\n",
    ").T"
   ]
  },
  {
   "cell_type": "code",
   "execution_count": 561,
   "metadata": {},
   "outputs": [],
   "source": [
    "K_inv = (jnp.array([dag(vec(pi)) for pi in list(povm_arr)])) / d"
   ]
  },
  {
   "cell_type": "code",
   "execution_count": 560,
   "metadata": {},
   "outputs": [
    {
     "data": {
      "text/plain": [
       "Array([0.39433756+0.j, 0.39433756+0.j, 0.10566244+0.j, 0.10566244+0.j],      dtype=complex64)"
      ]
     },
     "execution_count": 560,
     "metadata": {},
     "output_type": "execute_result"
    }
   ],
   "source": [
    "P_0"
   ]
  },
  {
   "cell_type": "code",
   "execution_count": 562,
   "metadata": {},
   "outputs": [
    {
     "data": {
      "text/plain": [
       "Array([0.39433756+0.j, 0.39433756+0.j, 0.10566245+0.j, 0.10566245+0.j],      dtype=complex64)"
      ]
     },
     "execution_count": 562,
     "metadata": {},
     "output_type": "execute_result"
    }
   ],
   "source": [
    "K_inv @ (K @ (P_0))"
   ]
  },
  {
   "cell_type": "code",
   "execution_count": 607,
   "metadata": {},
   "outputs": [],
   "source": [
    "@jit\n",
    "def _make_C(H, V):\n",
    "    return H - 1j / 2 * dag(V) @ V\n",
    "\n",
    "\n",
    "@jit\n",
    "def _make_Lambda(H, V):\n",
    "    return (\n",
    "        -1j * (spre(H) - spost(H))\n",
    "        + sprepost(V, dag(V))\n",
    "        - 0.5 * (spre(dag(V) @ V) + spost(dag(V) @ V))\n",
    "    )\n",
    "\n",
    "\n",
    "@jit\n",
    "def make_L(K, K_inv, H, V):\n",
    "    return K_inv @ _make_Lambda(H, V) @ K"
   ]
  },
  {
   "cell_type": "code",
   "execution_count": 608,
   "metadata": {},
   "outputs": [],
   "source": [
    "V = jnp.sqrt(0.1) * qt.sigmap().full() * 1"
   ]
  },
  {
   "cell_type": "code",
   "execution_count": 609,
   "metadata": {},
   "outputs": [],
   "source": [
    "rho0 = qt.ket2dm(qt.basis(2, 0)).full()"
   ]
  },
  {
   "cell_type": "code",
   "execution_count": 610,
   "metadata": {},
   "outputs": [],
   "source": [
    "omega = 0.5\n",
    "\n",
    "H = omega / 2 * qt.sigmax().full()"
   ]
  },
  {
   "cell_type": "code",
   "execution_count": 611,
   "metadata": {},
   "outputs": [],
   "source": [
    "L = make_L(K, K_inv, H, V)"
   ]
  },
  {
   "cell_type": "code",
   "execution_count": 612,
   "metadata": {},
   "outputs": [],
   "source": [
    "my_povm = jnp.array(\n",
    "    (qt.identity(2).full() + jnp.array([qt.sigmaz(), -qt.sigmaz()])) / 2\n",
    ")"
   ]
  },
  {
   "cell_type": "code",
   "execution_count": 613,
   "metadata": {},
   "outputs": [],
   "source": [
    "m = jnp.einsum(\"iljj\", jnp.einsum(\"ijk, lkn ->iljn\", my_povm, povm_arr))\n",
    "\n",
    "\n",
    "E = jnp.einsum(\"i, m -> im\", jnp.einsum(\"ijj\", my_povm), jnp.ones(d**2))\n",
    "\n",
    "M = (d + 1) * m - E"
   ]
  },
  {
   "cell_type": "code",
   "execution_count": 591,
   "metadata": {},
   "outputs": [],
   "source": [
    "def rho_to_psic(rho, povm_arr, d):\n",
    "    return jnp.einsum(\"ill\", jnp.einsum(\"ijk, kl -> ijl\", povm_arr, rho)) / d"
   ]
  },
  {
   "cell_type": "code",
   "execution_count": 592,
   "metadata": {},
   "outputs": [],
   "source": [
    "def psic_to_rho(p_arr, povm_arr, d):\n",
    "    K = (d + 1) * povm_arr - jnp.identity(2)\n",
    "    return jnp.einsum(\"ijk,i\", K, p_arr)"
   ]
  },
  {
   "cell_type": "code",
   "execution_count": 593,
   "metadata": {},
   "outputs": [],
   "source": [
    "P_0 = rho_to_psic(qt.ket2dm(qt.basis(2, 0)).full(), povm_arr, d)"
   ]
  },
  {
   "cell_type": "code",
   "execution_count": 594,
   "metadata": {},
   "outputs": [],
   "source": [
    "L = make_L(K, K_inv, H, V)"
   ]
  },
  {
   "cell_type": "code",
   "execution_count": 595,
   "metadata": {},
   "outputs": [],
   "source": [
    "from jax.scipy.linalg import expm"
   ]
  },
  {
   "cell_type": "code",
   "execution_count": 596,
   "metadata": {},
   "outputs": [
    {
     "data": {
      "text/plain": [
       "Array([0.4428925 -0.00170973j, 0.31117445+0.00170973j,\n",
       "       0.05612872-0.00170973j, 0.18784685+0.00170973j], dtype=complex64)"
      ]
     },
     "execution_count": 596,
     "metadata": {},
     "output_type": "execute_result"
    }
   ],
   "source": [
    "expm(L) @ P_0"
   ]
  },
  {
   "cell_type": "code",
   "execution_count": 597,
   "metadata": {},
   "outputs": [],
   "source": [
    "times = jnp.linspace(0, 100, 1000)"
   ]
  },
  {
   "cell_type": "code",
   "execution_count": 598,
   "metadata": {},
   "outputs": [],
   "source": [
    "P_times = jax.vmap(lambda t: expm(L * t) @ P_0)(times)"
   ]
  },
  {
   "cell_type": "code",
   "execution_count": 603,
   "metadata": {},
   "outputs": [
    {
     "name": "stderr",
     "output_type": "stream",
     "text": [
      "/home/antonio/miniconda3/envs/jax/lib/python3.11/site-packages/jax/_src/array.py:377: ComplexWarning: Casting complex values to real discards the imaginary part\n",
      "  return np.asarray(self._value, dtype=dtype)\n"
     ]
    },
    {
     "data": {
      "image/png": "[encoded data removed]",
      "text/plain": [
       "<Figure size 640x480 with 1 Axes>"
      ]
     },
     "metadata": {},
     "output_type": "display_data"
    }
   ],
   "source": [
    "plt.plot(times, jax.vmap(lambda psic: M @ psic)(P_times).T[0])\n",
    "plt.plot(times, jax.vmap(lambda psic: M @ psic)(P_times).T[1])\n",
    "plt.xlim(0, 100)\n",
    "plt.show()"
   ]
  },
  {
   "cell_type": "code",
   "execution_count": 614,
   "metadata": {},
   "outputs": [],
   "source": [
    "import equinox as eqx"
   ]
  },
  {
   "cell_type": "code",
   "execution_count": 645,
   "metadata": {},
   "outputs": [],
   "source": [
    "@jit\n",
    "def sprepost(A, B):\n",
    "    return jnp.kron(A, jnp.conjugate(B))\n",
    "\n",
    "\n",
    "class model1(eqx.Module):\n",
    "    d: int\n",
    "    md: jnp.array\n",
    "    sic_povm_arr: jnp.array\n",
    "\n",
    "    def __init__(self, d):\n",
    "        self.d = d\n",
    "        self.md = jnp.ones([d, d])\n",
    "        self.sic_povm_arr = jnp.array(sic_povm(d)) * d\n",
    "\n",
    "    @jit\n",
    "    def example_f(self):\n",
    "        return jnp.identity(d)\n",
    "\n",
    "    @jit\n",
    "    def spre(self, A):\n",
    "        return sprepost(A, jnp.identity(self.md.shape[0]))\n",
    "\n",
    "    @jit\n",
    "    def spost(self, A):\n",
    "        return sprepost(jnp.identity(self.md.shape[0]), A)"
   ]
  },
  {
   "cell_type": "code",
   "execution_count": null,
   "metadata": {},
   "outputs": [],
   "source": [
    "K = (d + 1) * jnp.array([vec(pi) for pi in list(povm_arr)]).T - jnp.array(\n",
    "    [vec(jnp.identity(2))] * d**2\n",
    ").T"
   ]
  },
  {
   "cell_type": "code",
   "execution_count": 646,
   "metadata": {},
   "outputs": [],
   "source": [
    "model = model1(d=2)"
   ]
  },
  {
   "cell_type": "code",
   "execution_count": 647,
   "metadata": {},
   "outputs": [
    {
     "data": {
      "text/plain": [
       "Array([[[ 0.7886751 +0.j        ,  0.28867513+0.28867513j],\n",
       "        [ 0.28867513-0.28867513j,  0.21132487+0.j        ]],\n",
       "\n",
       "       [[ 0.7886751 +0.j        , -0.28867513-0.28867513j],\n",
       "        [-0.28867513+0.28867513j,  0.21132487+0.j        ]],\n",
       "\n",
       "       [[ 0.21132487+0.j        ,  0.28867513-0.28867513j],\n",
       "        [ 0.28867513+0.28867513j,  0.7886751 +0.j        ]],\n",
       "\n",
       "       [[ 0.21132487+0.j        , -0.28867513+0.28867513j],\n",
       "        [-0.28867513-0.28867513j,  0.7886751 +0.j        ]]],      dtype=complex64)"
      ]
     },
     "execution_count": 647,
     "metadata": {},
     "output_type": "execute_result"
    }
   ],
   "source": [
    "model.sic_povm_arr"
   ]
  },
  {
   "cell_type": "code",
   "execution_count": 644,
   "metadata": {},
   "outputs": [
    {
     "data": {
      "text/plain": [
       "Array([[0.5118216 -0.31183144j, 0.9504637 -0.42332646j,\n",
       "        0.        +0.j        , 0.        +0.j        ],\n",
       "       [0.14415962-0.8277026j , 0.94864947-0.40919915j,\n",
       "        0.        +0.j        , 0.        +0.j        ],\n",
       "       [0.        +0.j        , 0.        +0.j        ,\n",
       "        0.5118216 -0.31183144j, 0.9504637 -0.42332646j],\n",
       "       [0.        +0.j        , 0.        +0.j        ,\n",
       "        0.14415962-0.8277026j , 0.94864947-0.40919915j]], dtype=complex64)"
      ]
     },
     "execution_count": 644,
     "metadata": {},
     "output_type": "execute_result"
    }
   ],
   "source": [
    "model.spost(A)"
   ]
  },
  {
   "cell_type": "code",
   "execution_count": null,
   "metadata": {},
   "outputs": [],
   "source": []
  }
 ],
 "metadata": {
  "kernelspec": {
   "display_name": "jax",
   "language": "python",
   "name": "python3"
  },
  "language_info": {
   "codemirror_mode": {
    "name": "ipython",
    "version": 3
   },
   "file_extension": ".py",
   "mimetype": "text/x-python",
   "name": "python",
   "nbconvert_exporter": "python",
   "pygments_lexer": "ipython3",
   "version": "3.11.0"
  }
 },
 "nbformat": 4,
 "nbformat_minor": 2
}
