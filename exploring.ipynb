{
 "cells": [
  {
   "cell_type": "code",
   "execution_count": 25,
   "metadata": {},
   "outputs": [],
   "source": [
    "import jax\n",
    "import jax.numpy as jnp\n",
    "import matplotlib.pyplot as plt\n",
    "from qdots_qll.models.game import get_SIC_POVM_4D\n",
    "import numpy as np\n",
    "\n",
    "import qutip as qt\n",
    "\n",
    "from jax.scipy.linalg import expm\n",
    "from jax import jit"
   ]
  },
  {
   "cell_type": "code",
   "execution_count": 10,
   "metadata": {},
   "outputs": [],
   "source": [
    "from qbism import sic_povm"
   ]
  },
  {
   "cell_type": "code",
   "execution_count": 11,
   "metadata": {},
   "outputs": [],
   "source": [
    "def dag(A):\n",
    "    return jnp.conjugate(A.T)\n",
    "\n",
    "\n",
    "def sprepost(A, B):\n",
    "    return jnp.kron(A, jnp.conjugate(B))\n",
    "\n",
    "\n",
    "def spre(A):\n",
    "    return sprepost(A, jnp.identity(2))\n",
    "\n",
    "\n",
    "def spost(A):\n",
    "    return sprepost(jnp.identity(2), A)\n",
    "\n",
    "\n",
    "# def vec(A):\n",
    "#     return A.flatten()\n",
    "def vec(A):\n",
    "    return A.flatten()\n",
    "    # return A.flatten()[:, jnp.newaxis]"
   ]
  },
  {
   "cell_type": "code",
   "execution_count": 12,
   "metadata": {},
   "outputs": [],
   "source": [
    "d = 2"
   ]
  },
  {
   "cell_type": "code",
   "execution_count": 13,
   "metadata": {},
   "outputs": [],
   "source": [
    "povm_arr = jnp.array(sic_povm(d)) * d"
   ]
  },
  {
   "cell_type": "code",
   "execution_count": 14,
   "metadata": {},
   "outputs": [
    {
     "name": "stdout",
     "output_type": "stream",
     "text": [
      "\u001b[0;31mSignature:\u001b[0m \u001b[0msic_povm\u001b[0m\u001b[0;34m(\u001b[0m\u001b[0md\u001b[0m\u001b[0;34m)\u001b[0m\u001b[0;34m\u001b[0m\u001b[0;34m\u001b[0m\u001b[0m\n",
      "\u001b[0;31mDocstring:\u001b[0m Returns a SIC-POVM of dimension $d$.\n",
      "\u001b[0;31mFile:\u001b[0m      ~/miniconda3/envs/jax/lib/python3.11/site-packages/qbism/sics.py\n",
      "\u001b[0;31mType:\u001b[0m      function"
     ]
    }
   ],
   "source": [
    "?sic_povm"
   ]
  },
  {
   "cell_type": "code",
   "execution_count": 15,
   "metadata": {},
   "outputs": [],
   "source": [
    "rng = np.random.default_rng(seed=1)"
   ]
  },
  {
   "cell_type": "code",
   "execution_count": 16,
   "metadata": {},
   "outputs": [],
   "source": [
    "A = rng.random([2, 2]) + 1j * rng.random([2, 2])\n",
    "B = rng.random([2, 2]) + 1j * rng.random([2, 2])\n",
    "C = rng.random([2, 2]) + 1j * rng.random([2, 2])"
   ]
  },
  {
   "cell_type": "code",
   "execution_count": 17,
   "metadata": {},
   "outputs": [
    {
     "data": {
      "text/plain": [
       "Array([1.1492252-0.04091862j, 1.6888942+0.01579123j,\n",
       "       0.9675945+0.25725535j, 1.3005437+0.55467325j], dtype=complex64)"
      ]
     },
     "execution_count": 17,
     "metadata": {},
     "output_type": "execute_result"
    }
   ],
   "source": [
    "vec(A @ B @ dag(C))"
   ]
  },
  {
   "cell_type": "code",
   "execution_count": 18,
   "metadata": {},
   "outputs": [
    {
     "data": {
      "text/plain": [
       "Array([1.1492252-0.04091859j, 1.6888943+0.01579124j,\n",
       "       0.9675946+0.25725538j, 1.3005437+0.5546732j ], dtype=complex64)"
      ]
     },
     "execution_count": 18,
     "metadata": {},
     "output_type": "execute_result"
    }
   ],
   "source": [
    "jnp.kron(A, jnp.conjugate(C)) @ vec(B)"
   ]
  },
  {
   "cell_type": "code",
   "execution_count": 19,
   "metadata": {},
   "outputs": [],
   "source": [
    "# def vec(A):\n",
    "#     return A.flatten()[:, np.newaxis]"
   ]
  },
  {
   "cell_type": "code",
   "execution_count": 20,
   "metadata": {},
   "outputs": [],
   "source": [
    "rho = qt.rand_dm(2, seed=1).full()"
   ]
  },
  {
   "cell_type": "code",
   "execution_count": 21,
   "metadata": {},
   "outputs": [],
   "source": [
    "K = (d + 1) * jnp.array([vec(pi) for pi in list(povm_arr)]).T - jnp.array(\n",
    "    [vec(jnp.identity(2))] * d**2\n",
    ").T"
   ]
  },
  {
   "cell_type": "code",
   "execution_count": 22,
   "metadata": {},
   "outputs": [],
   "source": [
    "K_inv = (jnp.array([dag(vec(pi)) for pi in list(povm_arr)])) / d"
   ]
  },
  {
   "cell_type": "code",
   "execution_count": 26,
   "metadata": {},
   "outputs": [],
   "source": [
    "@jit\n",
    "def _make_C(H, V):\n",
    "    return H - 1j / 2 * dag(V) @ V\n",
    "\n",
    "\n",
    "@jit\n",
    "def _make_Lambda(H, V):\n",
    "    return (\n",
    "        -1j * (spre(H) - spost(H))\n",
    "        + sprepost(V, dag(V))\n",
    "        - 0.5 * (spre(dag(V) @ V) + spost(dag(V) @ V))\n",
    "    )\n",
    "\n",
    "\n",
    "@jit\n",
    "def make_L(K, K_inv, H, V):\n",
    "    return K_inv @ _make_Lambda(H, V) @ K"
   ]
  },
  {
   "cell_type": "code",
   "execution_count": 58,
   "metadata": {},
   "outputs": [],
   "source": [
    "# V = jnp.sqrt(0.1) * qt.sigmap().full() * 1\n",
    "V = jnp.sqrt(0.1) * qt.sigmam().full() * 1"
   ]
  },
  {
   "cell_type": "code",
   "execution_count": 59,
   "metadata": {},
   "outputs": [],
   "source": [
    "rho0 = qt.ket2dm(qt.basis(2, 0)).full()"
   ]
  },
  {
   "cell_type": "code",
   "execution_count": 60,
   "metadata": {},
   "outputs": [],
   "source": [
    "omega = 0.5\n",
    "\n",
    "H = omega / 2 * qt.sigmax().full()"
   ]
  },
  {
   "cell_type": "code",
   "execution_count": 61,
   "metadata": {},
   "outputs": [],
   "source": [
    "L = make_L(K, K_inv, H, V)"
   ]
  },
  {
   "cell_type": "code",
   "execution_count": 62,
   "metadata": {},
   "outputs": [],
   "source": [
    "my_povm = jnp.array(\n",
    "    (qt.identity(2).full() + jnp.array([qt.sigmaz(), -qt.sigmaz()])) / 2\n",
    ")"
   ]
  },
  {
   "cell_type": "code",
   "execution_count": 63,
   "metadata": {},
   "outputs": [],
   "source": [
    "m = jnp.einsum(\"iljj\", jnp.einsum(\"ijk, lkn ->iljn\", my_povm, povm_arr))\n",
    "\n",
    "\n",
    "E = jnp.einsum(\"i, m -> im\", jnp.einsum(\"ijj\", my_povm), jnp.ones(d**2))\n",
    "\n",
    "M = (d + 1) * m - E"
   ]
  },
  {
   "cell_type": "code",
   "execution_count": 64,
   "metadata": {},
   "outputs": [],
   "source": [
    "def rho_to_psic(rho, povm_arr, d):\n",
    "    return jnp.einsum(\"ill\", jnp.einsum(\"ijk, kl -> ijl\", povm_arr, rho)) / d"
   ]
  },
  {
   "cell_type": "code",
   "execution_count": 65,
   "metadata": {},
   "outputs": [],
   "source": [
    "def psic_to_rho(p_arr, povm_arr, d):\n",
    "    K = (d + 1) * povm_arr - jnp.identity(2)\n",
    "    return jnp.einsum(\"ijk,i\", K, p_arr)"
   ]
  },
  {
   "cell_type": "code",
   "execution_count": 66,
   "metadata": {},
   "outputs": [],
   "source": [
    "P_0 = rho_to_psic(qt.ket2dm(qt.basis(2, 0)).full(), povm_arr, d)"
   ]
  },
  {
   "cell_type": "code",
   "execution_count": 67,
   "metadata": {},
   "outputs": [],
   "source": [
    "L = make_L(K, K_inv, H, V)"
   ]
  },
  {
   "cell_type": "code",
   "execution_count": 68,
   "metadata": {},
   "outputs": [],
   "source": [
    "times = jnp.linspace(0, 100, 1000)"
   ]
  },
  {
   "cell_type": "code",
   "execution_count": 69,
   "metadata": {},
   "outputs": [],
   "source": [
    "P_times = jax.vmap(lambda t: expm(L * t) @ P_0)(times)"
   ]
  },
  {
   "cell_type": "code",
   "execution_count": 70,
   "metadata": {},
   "outputs": [
    {
     "name": "stderr",
     "output_type": "stream",
     "text": [
      "/home/antonio/miniconda3/envs/jax/lib/python3.11/site-packages/jax/_src/array.py:377: ComplexWarning: Casting complex values to real discards the imaginary part\n",
      "  return np.asarray(self._value, dtype=dtype)\n"
     ]
    },
    {
     "data": {
      "image/png": "[encoded data removed]",
      "text/plain": [
       "<Figure size 640x480 with 1 Axes>"
      ]
     },
     "metadata": {},
     "output_type": "display_data"
    }
   ],
   "source": [
    "plt.plot(times, jax.vmap(lambda psic: M @ psic)(P_times).T[0])\n",
    "plt.plot(times, jax.vmap(lambda psic: M @ psic)(P_times).T[1])\n",
    "plt.xlim(0, 100)\n",
    "plt.show()"
   ]
  },
  {
   "cell_type": "code",
   "execution_count": 72,
   "metadata": {},
   "outputs": [],
   "source": [
    "import equinox as eqx"
   ]
  },
  {
   "cell_type": "code",
   "execution_count": 891,
   "metadata": {},
   "outputs": [],
   "source": [
    "@jit\n",
    "def sprepost(A, B):\n",
    "    return jnp.kron(A, jnp.transpose(B))\n",
    "\n",
    "\n",
    "def make_K(d, povm_arr):\n",
    "    K = (d + 1) * jnp.array([vec(pi) for pi in list(povm_arr)]).T - jnp.array(\n",
    "        [vec(jnp.identity(d))] * d**2\n",
    "    ).T\n",
    "    return K\n",
    "\n",
    "\n",
    "def make_K_inv(d, povm_arr):\n",
    "    return (jnp.array([dag(vec(pi)) for pi in list(povm_arr)])) / d\n",
    "\n",
    "\n",
    "dimensions_list = [2, 3, 4, 5, 6, 7]\n",
    "dimensions_list_str = [str(i) for i in dimensions_list]\n",
    "\n",
    "\n",
    "list_sic_povm_arr = list(\n",
    "    [(lambda d: jnp.array(sic_povm(d)) * d)(d) for d in dimensions_list]\n",
    ")\n",
    "\n",
    "list_K_mat = []\n",
    "list_K_inv_mat = []\n",
    "for i in zip(dimensions_list, list_sic_povm_arr):\n",
    "    list_K_mat.append(make_K(*i))\n",
    "    list_K_inv_mat.append(make_K_inv(*i))\n",
    "\n",
    "sic_povm_dictionary = dict(\n",
    "    map(lambda i, j: (i, j), dimensions_list_str, list_sic_povm_arr)\n",
    ")\n",
    "\n",
    "K_mat_dictionary = dict(\n",
    "    map(lambda i, j: (i, j), dimensions_list_str, list_K_mat)\n",
    ")\n",
    "\n",
    "K_inv_mat_dictionary = dict(\n",
    "    map(lambda i, j: (i, j), dimensions_list_str, list_K_inv_mat)\n",
    ")"
   ]
  },
  {
   "cell_type": "code",
   "execution_count": 892,
   "metadata": {},
   "outputs": [],
   "source": [
    "class sic_povm_model(eqx.Module):\n",
    "    d: int\n",
    "    md: jnp.array\n",
    "    sic_povm_arr: jnp.array\n",
    "    K_mat: jnp.array\n",
    "    K_inv_mat: jnp.array\n",
    "\n",
    "    def __init__(self, d):\n",
    "        self.d = d\n",
    "        self.md = jnp.ones([d, d])\n",
    "        self.sic_povm_arr = sic_povm_dictionary[str(d)]\n",
    "        self.K_mat = K_mat_dictionary[str(d)]\n",
    "        self.K_inv_mat = K_inv_mat_dictionary[str(d)]\n",
    "\n",
    "    @jit\n",
    "    def example_f(self):\n",
    "        return jnp.identity(d)\n",
    "\n",
    "    @jit\n",
    "    def spre(self, A):\n",
    "        return sprepost(A, jnp.identity(self.md.shape[0]))\n",
    "\n",
    "    @jit\n",
    "    def spost(self, A):\n",
    "        return sprepost(jnp.identity(self.md.shape[0]), A)"
   ]
  },
  {
   "cell_type": "code",
   "execution_count": 894,
   "metadata": {},
   "outputs": [],
   "source": [
    "almostzero = 1e-8\n",
    "\n",
    "\n",
    "class my_model(sic_povm_model):\n",
    "    number_of_parameters: int\n",
    "    omega: float\n",
    "    gamma: float\n",
    "    rho_0: jnp.array\n",
    "    P_0: jnp.array\n",
    "    measurement_POVM: jnp.array\n",
    "    M: jnp.array\n",
    "\n",
    "    def __init__(self, d, rho_0, measurement_POVM):\n",
    "        super().__init__(d)\n",
    "        self.number_of_parameters = 2\n",
    "        self.omega = 0.5\n",
    "        self.gamma = 0.1\n",
    "        self.rho_0 = rho_0\n",
    "        self.P_0 = self.rho_to_psic(rho_0)\n",
    "        self.measurement_POVM = measurement_POVM\n",
    "        self.M = self.M_sic_to_mypovm(self.measurement_POVM)\n",
    "\n",
    "    @jit\n",
    "    def make_H0(self):\n",
    "        return jnp.array([[0, 1], [1, 0]])\n",
    "\n",
    "    @jit\n",
    "    def make_dissipator(self):\n",
    "        V = jnp.array([[1, 0], [0, 0]])\n",
    "        return sprepost(V, dag(V)) - 0.5 * (\n",
    "            spre(dag(V) @ V) + spost(dag(V) @ V)\n",
    "        )\n",
    "\n",
    "    @jit\n",
    "    def M_sic_to_mypovm(self, my_povm):\n",
    "        d = self.md.shape[0]\n",
    "        m = jnp.einsum(\n",
    "            \"iljj\", jnp.einsum(\"ijk, lkn ->iljn\", my_povm, self.sic_povm_arr)\n",
    "        )\n",
    "        E = jnp.einsum(\n",
    "            \"i, m -> im\", jnp.einsum(\"ijj\", my_povm), jnp.ones(d**2)\n",
    "        )\n",
    "        M = (d + 1) * m - E\n",
    "        return M\n",
    "\n",
    "    @jit\n",
    "    def rho_to_psic(self, rho):\n",
    "        d = self.md.shape[0]\n",
    "        povm_arr = self.sic_povm_arr\n",
    "        return (\n",
    "            jnp.einsum(\"ill\", jnp.einsum(\"ijk, kl -> ijl\", povm_arr, rho)) / d\n",
    "        )\n",
    "\n",
    "    @jit\n",
    "    def sic_to_povm(self, sicP):\n",
    "        M = self.M\n",
    "        return M @ sicP\n",
    "\n",
    "    @jit\n",
    "    def psic_to_rho(self, p_array):\n",
    "        d = self.md.shape[0]\n",
    "        povm_arr = self.sic_povm_arr\n",
    "        K = (d + 1) * povm_arr - jnp.identity(2)\n",
    "        return jnp.einsum(\"ijk,i\", K, p_array)\n",
    "\n",
    "    @jit\n",
    "    def make_L(self, particle):\n",
    "        omega = particle[0]\n",
    "        gamma = particle[1]\n",
    "        H = omega * self.make_H0()\n",
    "        D = gamma * self.make_dissipator()\n",
    "        return -1j * (spre(H) - spost(H)) + D\n",
    "\n",
    "    @jit\n",
    "    def make_LP(self, particle):\n",
    "        L = self.make_L(particle)\n",
    "\n",
    "        return self.K_inv_mat @ L @ self.K_mat\n",
    "\n",
    "    # TODO Make the function that computes P safe.\n",
    "    @jit\n",
    "    def likelihood_sic_particle(self, particle, t):\n",
    "        L = self.make_LP(particle)\n",
    "        return jnp.real(expm(L * t) @ self.P_0)\n",
    "\n",
    "    @jit\n",
    "    def likelihood_povm_particle(self, particle, t):\n",
    "        evolved_Psic = self.likelihood_sic_particle(particle, t)\n",
    "\n",
    "        return jnp.real(self.sic_to_povm(evolved_Psic))\n",
    "\n",
    "    @jit\n",
    "    def fim_sic(self, particle, t):\n",
    "        \"\"\"Given a particle and time, computes the Fisher Information Matrix\n",
    "\n",
    "        Args:\n",
    "            particle (_type_): (j)np array of particle\n",
    "            t (_type_): time\n",
    "\n",
    "        Returns:\n",
    "            _type_: _description_\n",
    "        \"\"\"\n",
    "        jacobian = jnp.array(\n",
    "            jax.jacobian(self.likelihood_sic_particle, 0)(particle, t)\n",
    "        ).T\n",
    "        lkl = jnp.array(self.likelihood_sic_particle(particle, t))\n",
    "        return jnp.einsum(\"ij, ik, i -> jk\", jacobian, jacobian, 1 / lkl)\n",
    "\n",
    "    @jit\n",
    "    def fim_povm(self, particle, t):\n",
    "        jacobian = jnp.array(\n",
    "            jax.jacobian(self.likelihood_povm_particle, 0)(particle, t)\n",
    "        ).T\n",
    "        lkl = jnp.array(self.likelihood_povm_particle(particle, t))\n",
    "        return jnp.einsum(\"ij, ik, i -> jk\", jacobian, jacobian, 1 / lkl)\n",
    "\n",
    "    # @jit\n",
    "    # def log_likelihood_matrix_sic(self, particle, t ):\n",
    "\n",
    "    # @jit\n",
    "    # def log_lik\n",
    "    # # @jit\n",
    "    # def log_lkl_sic_particle(self, particle, t):\n",
    "    #     L = self.make_LP(particle)\n",
    "    #     return (L * t) + jnp.log(  self.P_0)"
   ]
  },
  {
   "cell_type": "code",
   "execution_count": 895,
   "metadata": {},
   "outputs": [
    {
     "data": {
      "text/plain": [
       "Array([[[1.+0.j, 0.+0.j],\n",
       "        [0.+0.j, 0.+0.j]],\n",
       "\n",
       "       [[0.+0.j, 0.+0.j],\n",
       "        [0.+0.j, 1.+0.j]]], dtype=complex64)"
      ]
     },
     "execution_count": 895,
     "metadata": {},
     "output_type": "execute_result"
    }
   ],
   "source": [
    "my_povm"
   ]
  },
  {
   "cell_type": "code",
   "execution_count": 896,
   "metadata": {},
   "outputs": [],
   "source": [
    "x_povm = (\n",
    "    qt.identity(2).full()\n",
    "    + jnp.array([qt.sigmax().full(), -qt.sigmax().full()])\n",
    ") / 2\n",
    "\n",
    "z_povm = (\n",
    "    qt.identity(2).full()\n",
    "    + jnp.array([qt.sigmaz().full(), -qt.sigmaz().full()])\n",
    ") / 2\n",
    "\n",
    "y_povm = (\n",
    "    qt.identity(2).full()\n",
    "    + jnp.array([qt.sigmay().full(), -qt.sigmay().full()])\n",
    ") / 2"
   ]
  },
  {
   "cell_type": "code",
   "execution_count": 897,
   "metadata": {},
   "outputs": [
    {
     "data": {
      "text/plain": [
       "array([[1.+0.j, 0.+0.j],\n",
       "       [0.+0.j, 1.+0.j]], dtype=complex64)"
      ]
     },
     "execution_count": 897,
     "metadata": {},
     "output_type": "execute_result"
    }
   ],
   "source": [
    "((np.concatenate([x_povm, z_povm, y_povm])) / 3).sum(0)"
   ]
  },
  {
   "cell_type": "code",
   "execution_count": 898,
   "metadata": {},
   "outputs": [
    {
     "data": {
      "text/plain": [
       "array([[1.+0.j, 0.+0.j],\n",
       "       [0.+0.j, 1.+0.j]])"
      ]
     },
     "execution_count": 898,
     "metadata": {},
     "output_type": "execute_result"
    }
   ],
   "source": [
    "(qt.identity(2).full() + np.array([1, -1]) * (qt.sigmaz().full())) / 2"
   ]
  },
  {
   "cell_type": "code",
   "execution_count": 899,
   "metadata": {},
   "outputs": [],
   "source": [
    "model = my_model(2, rho0, (np.concatenate([x_povm, z_povm, y_povm])) / 3)"
   ]
  },
  {
   "cell_type": "code",
   "execution_count": 900,
   "metadata": {},
   "outputs": [
    {
     "data": {
      "text/plain": [
       "array([[[ 0.16666667+0.j        ,  0.16666667+0.j        ],\n",
       "        [ 0.16666667+0.j        ,  0.16666667+0.j        ]],\n",
       "\n",
       "       [[ 0.16666667+0.j        , -0.16666667+0.j        ],\n",
       "        [-0.16666667+0.j        ,  0.16666667+0.j        ]],\n",
       "\n",
       "       [[ 0.33333334+0.j        ,  0.        +0.j        ],\n",
       "        [ 0.        +0.j        ,  0.        +0.j        ]],\n",
       "\n",
       "       [[ 0.        +0.j        ,  0.        +0.j        ],\n",
       "        [ 0.        +0.j        ,  0.33333334+0.j        ]],\n",
       "\n",
       "       [[ 0.16666667+0.j        ,  0.        -0.16666667j],\n",
       "        [ 0.        +0.16666667j,  0.16666667+0.j        ]],\n",
       "\n",
       "       [[ 0.16666667+0.j        ,  0.        +0.16666667j],\n",
       "        [ 0.        -0.16666667j,  0.16666667+0.j        ]]],\n",
       "      dtype=complex64)"
      ]
     },
     "execution_count": 900,
     "metadata": {},
     "output_type": "execute_result"
    }
   ],
   "source": [
    "model.measurement_POVM"
   ]
  },
  {
   "cell_type": "code",
   "execution_count": 901,
   "metadata": {},
   "outputs": [],
   "source": [
    "times = jnp.linspace(0, 150, 2000)"
   ]
  },
  {
   "cell_type": "code",
   "execution_count": 902,
   "metadata": {},
   "outputs": [
    {
     "name": "stderr",
     "output_type": "stream",
     "text": [
      "/home/antonio/miniconda3/envs/jax/lib/python3.11/site-packages/jax/_src/lax/lax.py:2652: ComplexWarning: Casting complex values to real discards the imaginary part\n",
      "  x_bar = _convert_element_type(x_bar, x.aval.dtype, x.aval.weak_type)\n"
     ]
    },
    {
     "data": {
      "image/png": "[encoded data removed]",
      "text/plain": [
       "<Figure size 640x480 with 1 Axes>"
      ]
     },
     "metadata": {},
     "output_type": "display_data"
    }
   ],
   "source": [
    "fim_times = jnp.real(\n",
    "    jax.vmap(lambda t: model.fim_povm([model.omega, 1.1 * model.gamma], t))(\n",
    "        times\n",
    "    )\n",
    ")\n",
    "\n",
    "for i in range(2):\n",
    "    plt.plot(\n",
    "        times,\n",
    "        fim_times[:, i, i],\n",
    "    )\n",
    "\n",
    "# plt.plot(times, fim_times[:, 1, 1])\n",
    "plt.show()"
   ]
  },
  {
   "cell_type": "code",
   "execution_count": null,
   "metadata": {},
   "outputs": [],
   "source": []
  },
  {
   "cell_type": "code",
   "execution_count": 903,
   "metadata": {},
   "outputs": [
    {
     "data": {
      "image/png": "[encoded data removed]",
      "text/plain": [
       "<Figure size 640x480 with 1 Axes>"
      ]
     },
     "metadata": {},
     "output_type": "display_data"
    }
   ],
   "source": [
    "fim_times = jnp.real(\n",
    "    jax.vmap(\n",
    "        lambda t: jnp.linalg.det(\n",
    "            model.fim_povm([model.omega, 1.1 * model.gamma], t)\n",
    "        )\n",
    "    )(times)\n",
    ")\n",
    "\n",
    "# for i in range(2):\n",
    "#     plt.plot(\n",
    "#         times,\n",
    "#         fim_times[:, i, i],\n",
    "#     )\n",
    "\n",
    "plt.plot(times, fim_times)\n",
    "plt.show()"
   ]
  },
  {
   "cell_type": "code",
   "execution_count": 904,
   "metadata": {},
   "outputs": [
    {
     "data": {
      "text/plain": [
       "Array([0.39433756+0.j, 0.39433756+0.j, 0.10566244+0.j, 0.10566244+0.j],      dtype=complex64)"
      ]
     },
     "execution_count": 904,
     "metadata": {},
     "output_type": "execute_result"
    }
   ],
   "source": [
    "model.P_0"
   ]
  },
  {
   "cell_type": "code",
   "execution_count": 388,
   "metadata": {},
   "outputs": [
    {
     "ename": "AttributeError",
     "evalue": "module 'jax.scipy.linalg' has no attribute 'logm'",
     "output_type": "error",
     "traceback": [
      "\u001b[0;31m---------------------------------------------------------------------------\u001b[0m",
      "\u001b[0;31mAttributeError\u001b[0m                            Traceback (most recent call last)",
      "Cell \u001b[0;32mIn[388], line 1\u001b[0m\n\u001b[0;32m----> 1\u001b[0m jnp\u001b[38;5;241m.\u001b[39mlog(model\u001b[38;5;241m.\u001b[39mP_0) \u001b[38;5;241m+\u001b[39m \u001b[43mjax\u001b[49m\u001b[38;5;241;43m.\u001b[39;49m\u001b[43mscipy\u001b[49m\u001b[38;5;241;43m.\u001b[39;49m\u001b[43mlinalg\u001b[49m\u001b[38;5;241;43m.\u001b[39;49m\u001b[43mlogm\u001b[49m(model\u001b[38;5;241m.\u001b[39mmake_LP(par)\u001b[38;5;241m*\u001b[39mti)\n",
      "File \u001b[0;32m~/miniconda3/envs/jax/lib/python3.11/site-packages/jax/_src/deprecations.py:53\u001b[0m, in \u001b[0;36mdeprecation_getattr.<locals>.getattr\u001b[0;34m(name)\u001b[0m\n\u001b[1;32m     51\u001b[0m   warnings\u001b[38;5;241m.\u001b[39mwarn(message, \u001b[38;5;167;01mDeprecationWarning\u001b[39;00m, stacklevel\u001b[38;5;241m=\u001b[39m\u001b[38;5;241m2\u001b[39m)\n\u001b[1;32m     52\u001b[0m   \u001b[38;5;28;01mreturn\u001b[39;00m fn\n\u001b[0;32m---> 53\u001b[0m \u001b[38;5;28;01mraise\u001b[39;00m \u001b[38;5;167;01mAttributeError\u001b[39;00m(\u001b[38;5;124mf\u001b[39m\u001b[38;5;124m\"\u001b[39m\u001b[38;5;124mmodule \u001b[39m\u001b[38;5;132;01m{\u001b[39;00mmodule\u001b[38;5;132;01m!r}\u001b[39;00m\u001b[38;5;124m has no attribute \u001b[39m\u001b[38;5;132;01m{\u001b[39;00mname\u001b[38;5;132;01m!r}\u001b[39;00m\u001b[38;5;124m\"\u001b[39m)\n",
      "\u001b[0;31mAttributeError\u001b[0m: module 'jax.scipy.linalg' has no attribute 'logm'"
     ]
    }
   ],
   "source": [
    "jnp.log(model.P_0) + jax.scipy.linalg.logm(model.make_LP(par) * ti)"
   ]
  },
  {
   "cell_type": "code",
   "execution_count": 431,
   "metadata": {},
   "outputs": [],
   "source": [
    "lambdas, U = jnp.linalg.eigh((model.make_LP(par) * ti).round(6))"
   ]
  },
  {
   "cell_type": "code",
   "execution_count": 432,
   "metadata": {},
   "outputs": [
    {
     "data": {
      "text/plain": [
       "Array([[-0.206353 -0.j,  3.958229 +0.j, -0.       -0.j, -3.7518759+0.j],\n",
       "       [-3.545523 +0.j, -0.206353 -0.j,  3.7518759+0.j,  0.       -0.j],\n",
       "       [-0.       +0.j, -3.7518759-0.j, -0.206353 +0.j,  3.958229 -0.j],\n",
       "       [ 3.7518759-0.j, -0.       +0.j, -3.545523 -0.j, -0.206353 +0.j]],      dtype=complex64)"
      ]
     },
     "execution_count": 432,
     "metadata": {},
     "output_type": "execute_result"
    }
   ],
   "source": [
    "(model.make_LP(par) * ti).round(6)"
   ]
  },
  {
   "cell_type": "code",
   "execution_count": 434,
   "metadata": {},
   "outputs": [
    {
     "data": {
      "text/plain": [
       "Array([[-4.1270608e-01+0.j,  0.0000000e+00+0.j,  2.3226232e-08+0.j,\n",
       "         0.0000000e+00+0.j],\n",
       "       [ 0.0000000e+00+0.j,  6.5537520e-08+0.j,  0.0000000e+00+0.j,\n",
       "        -1.9495734e-15+0.j],\n",
       "       [-6.5760908e-09+0.j,  0.0000000e+00+0.j, -4.1270605e-01+0.j,\n",
       "         0.0000000e+00+0.j],\n",
       "       [ 0.0000000e+00+0.j,  1.6031403e-15+0.j,  0.0000000e+00+0.j,\n",
       "         6.5537513e-08+0.j]], dtype=complex64)"
      ]
     },
     "execution_count": 434,
     "metadata": {},
     "output_type": "execute_result"
    }
   ],
   "source": [
    "U.T @ jnp.diag(lambdas) @ jnp.linalg.inv(U.T)"
   ]
  },
  {
   "cell_type": "code",
   "execution_count": 418,
   "metadata": {},
   "outputs": [
    {
     "data": {
      "text/plain": [
       "Array([[False, False, False, False],\n",
       "       [False, False, False, False],\n",
       "       [False, False, False, False],\n",
       "       [False, False, False, False]], dtype=bool)"
      ]
     },
     "execution_count": 418,
     "metadata": {},
     "output_type": "execute_result"
    }
   ],
   "source": [
    "jnp.isclose(\n",
    "    U.round(5) @ jnp.diag(lambdas) @ dag(U).round(5),\n",
    "    (model.make_LP(par) * ti).round(5),\n",
    ")"
   ]
  },
  {
   "cell_type": "code",
   "execution_count": 385,
   "metadata": {},
   "outputs": [
    {
     "data": {
      "text/plain": [
       "Array([-0.9066924, -1.6960286, -2.3419278, -1.1501496], dtype=float32)"
      ]
     },
     "execution_count": 385,
     "metadata": {},
     "output_type": "execute_result"
    }
   ],
   "source": [
    "jnp.log(model.likelihood_sic_particle(par, ti))"
   ]
  },
  {
   "cell_type": "code",
   "execution_count": 435,
   "metadata": {},
   "outputs": [
    {
     "data": {
      "text/latex": [
       "Quantum object: dims = [[2], [2]], shape = (2, 2), type = oper, isherm = False $ \\\\ \\left(\\begin{matrix}0.0 & -1.0j\\\\-1.0j & 0.0\\\\\\end{matrix}\\right)$"
      ],
      "text/plain": [
       "Quantum object: dims = [[2], [2]], shape = (2, 2), type = oper, isherm = False\n",
       "Qobj data =\n",
       "[[0.+0.j 0.-1.j]\n",
       " [0.-1.j 0.+0.j]]"
      ]
     },
     "execution_count": 435,
     "metadata": {},
     "output_type": "execute_result"
    }
   ],
   "source": [
    "qt.sigmaz() * qt.sigmay()"
   ]
  },
  {
   "cell_type": "code",
   "execution_count": 441,
   "metadata": {},
   "outputs": [
    {
     "data": {
      "text/latex": [
       "Quantum object: dims = [[2], [2]], shape = (2, 2), type = oper, isherm = False $ \\\\ \\left(\\begin{matrix}0.0 & 1.0\\\\-1.0 & 0.0\\\\\\end{matrix}\\right)$"
      ],
      "text/plain": [
       "Quantum object: dims = [[2], [2]], shape = (2, 2), type = oper, isherm = False\n",
       "Qobj data =\n",
       "[[ 0.  1.]\n",
       " [-1.  0.]]"
      ]
     },
     "execution_count": 441,
     "metadata": {},
     "output_type": "execute_result"
    }
   ],
   "source": [
    "1j * qt.sigmay()"
   ]
  },
  {
   "cell_type": "code",
   "execution_count": 439,
   "metadata": {},
   "outputs": [
    {
     "data": {
      "text/latex": [
       "Quantum object: dims = [[2], [2]], shape = (2, 2), type = oper, isherm = False $ \\\\ \\left(\\begin{matrix}0.0 & 1.0\\\\0.0 & 0.0\\\\\\end{matrix}\\right)$"
      ],
      "text/plain": [
       "Quantum object: dims = [[2], [2]], shape = (2, 2), type = oper, isherm = False\n",
       "Qobj data =\n",
       "[[0. 1.]\n",
       " [0. 0.]]"
      ]
     },
     "execution_count": 439,
     "metadata": {},
     "output_type": "execute_result"
    }
   ],
   "source": [
    "qt.sigmap()"
   ]
  },
  {
   "cell_type": "code",
   "execution_count": 438,
   "metadata": {},
   "outputs": [
    {
     "data": {
      "text/latex": [
       "Quantum object: dims = [[2], [2]], shape = (2, 2), type = oper, isherm = True $ \\\\ \\left(\\begin{matrix}0.0 & 1.0\\\\1.0 & 0.0\\\\\\end{matrix}\\right)$"
      ],
      "text/plain": [
       "Quantum object: dims = [[2], [2]], shape = (2, 2), type = oper, isherm = True\n",
       "Qobj data =\n",
       "[[0. 1.]\n",
       " [1. 0.]]"
      ]
     },
     "execution_count": 438,
     "metadata": {},
     "output_type": "execute_result"
    }
   ],
   "source": [
    "qt.sigmax()"
   ]
  },
  {
   "cell_type": "code",
   "execution_count": 436,
   "metadata": {},
   "outputs": [
    {
     "data": {
      "text/latex": [
       "Quantum object: dims = [[2], [2]], shape = (2, 2), type = oper, isherm = False $ \\\\ \\left(\\begin{matrix}0.0 & 1.0j\\\\1.0j & 0.0\\\\\\end{matrix}\\right)$"
      ],
      "text/plain": [
       "Quantum object: dims = [[2], [2]], shape = (2, 2), type = oper, isherm = False\n",
       "Qobj data =\n",
       "[[0.+0.j 0.+1.j]\n",
       " [0.+1.j 0.+0.j]]"
      ]
     },
     "execution_count": 436,
     "metadata": {},
     "output_type": "execute_result"
    }
   ],
   "source": [
    "qt.sigmay() * qt.sigmaz()"
   ]
  },
  {
   "cell_type": "code",
   "execution_count": 444,
   "metadata": {},
   "outputs": [
    {
     "data": {
      "text/plain": [
       "array([[0.1340417 +0.75036467j, 0.40311299+0.28040876j],\n",
       "       [0.20345524+0.48519097j, 0.26231334+0.9807372j ]])"
      ]
     },
     "execution_count": 444,
     "metadata": {},
     "output_type": "execute_result"
    }
   ],
   "source": [
    "# Checking vectorization things\n",
    "\n",
    "A\n",
    "B\n",
    "C"
   ]
  },
  {
   "cell_type": "code",
   "execution_count": 450,
   "metadata": {},
   "outputs": [
    {
     "data": {
      "text/plain": [
       "Array(0.44263655+1.7341907j, dtype=complex64)"
      ]
     },
     "execution_count": 450,
     "metadata": {},
     "output_type": "execute_result"
    }
   ],
   "source": [
    "dag(vec(dag(A))) @ vec(B)"
   ]
  },
  {
   "cell_type": "code",
   "execution_count": 448,
   "metadata": {},
   "outputs": [
    {
     "data": {
      "text/plain": [
       "Array(0.44263652+1.7341907j, dtype=complex64)"
      ]
     },
     "execution_count": 448,
     "metadata": {},
     "output_type": "execute_result"
    }
   ],
   "source": [
    "jnp.trace(A @ B)"
   ]
  },
  {
   "cell_type": "markdown",
   "metadata": {},
   "source": [
    "# Computation of qfim for an example L"
   ]
  },
  {
   "cell_type": "code",
   "execution_count": 905,
   "metadata": {},
   "outputs": [],
   "source": [
    "omega = 0.5\n",
    "\n",
    "H = omega / 2 * qt.sigmax() + 0.25 / 2 * qt.sigmaz()"
   ]
  },
  {
   "cell_type": "code",
   "execution_count": 906,
   "metadata": {},
   "outputs": [
    {
     "data": {
      "text/plain": [
       "array([1.+0.j, 0.+0.j, 0.+0.j, 0.+0.j])"
      ]
     },
     "execution_count": 906,
     "metadata": {},
     "output_type": "execute_result"
    }
   ],
   "source": [
    "vec(rho0)"
   ]
  },
  {
   "cell_type": "code",
   "execution_count": 907,
   "metadata": {},
   "outputs": [],
   "source": [
    "def _make_dissipator(V):\n",
    "    return +sprepost(V, dag(V)) - 0.5 * (spre(dag(V) @ V) + spost(dag(V) @ V))"
   ]
  },
  {
   "cell_type": "code",
   "execution_count": 908,
   "metadata": {},
   "outputs": [],
   "source": [
    "def unvec(Avec, d):\n",
    "    return Avec.reshape(d, d)"
   ]
  },
  {
   "cell_type": "code",
   "execution_count": null,
   "metadata": {},
   "outputs": [],
   "source": []
  },
  {
   "cell_type": "code",
   "execution_count": 910,
   "metadata": {},
   "outputs": [],
   "source": [
    "L = _make_Lambda(jnp.array(H), 0.2 * jnp.array(qt.sigmaz()))\n",
    "\n",
    "Dsuperop = _make_dissipator(0.2 * jnp.array(qt.sigmaz()))\n",
    "\n",
    "times = jnp.linspace(0, 100, 1000)\n",
    "\n",
    "rhot_v = jax.vmap(lambda t: (expm(L * t) @ vec(rho0)))(times)\n",
    "rhot = jax.vmap(lambda a: unvec(a, 2))(rhot_v)"
   ]
  },
  {
   "cell_type": "code",
   "execution_count": 911,
   "metadata": {},
   "outputs": [
    {
     "data": {
      "text/plain": [
       "[<matplotlib.lines.Line2D at 0x77b0ce817050>]"
      ]
     },
     "execution_count": 911,
     "metadata": {},
     "output_type": "execute_result"
    },
    {
     "data": {
      "image/png": "[encoded data removed]",
      "text/plain": [
       "<Figure size 640x480 with 1 Axes>"
      ]
     },
     "metadata": {},
     "output_type": "display_data"
    }
   ],
   "source": [
    "plt.plot(times, jnp.real(rhot[:, 0, 0]))"
   ]
  },
  {
   "cell_type": "code",
   "execution_count": 525,
   "metadata": {},
   "outputs": [
    {
     "data": {
      "text/plain": [
       "Array([-0.00874202-1.9853836e-09j, -0.0024625 +2.7418875e-03j,\n",
       "        0.00246251-9.1121625e-03j,  0.        +0.0000000e+00j],      dtype=complex64)"
      ]
     },
     "execution_count": 525,
     "metadata": {},
     "output_type": "execute_result"
    }
   ],
   "source": [
    "Dsuperop @ rhot_v[300]"
   ]
  },
  {
   "cell_type": "code",
   "execution_count": 527,
   "metadata": {},
   "outputs": [
    {
     "data": {
      "text/plain": [
       "Array([-0.3051004 -0.39463377j,  0.32681364+0.42271882j,\n",
       "       -0.2848298 -0.36841467j,  0.3051004 +0.39463377j], dtype=complex64)"
      ]
     },
     "execution_count": 527,
     "metadata": {},
     "output_type": "execute_result"
    }
   ],
   "source": [
    "jnp.kron(eigvecs[0], eigvecs[1])"
   ]
  },
  {
   "cell_type": "code",
   "execution_count": 529,
   "metadata": {},
   "outputs": [
    {
     "data": {
      "text/plain": [
       "Array([-0.3051004 -0.39463377j,  0.32681364+0.42271882j,\n",
       "       -0.2848298 -0.36841467j,  0.3051004 +0.39463377j], dtype=complex64)"
      ]
     },
     "execution_count": 529,
     "metadata": {},
     "output_type": "execute_result"
    }
   ],
   "source": [
    "vec(jnp.kron(eigvecs[0], eigvecs[1]))"
   ]
  },
  {
   "cell_type": "code",
   "execution_count": 531,
   "metadata": {},
   "outputs": [
    {
     "data": {
      "text/plain": [
       "Array(0.00567712+0.00198978j, dtype=complex64)"
      ]
     },
     "execution_count": 531,
     "metadata": {},
     "output_type": "execute_result"
    }
   ],
   "source": [
    "jnp.dot(dag(vec(jnp.kron(eigvecs[0], eigvecs[1]))), Dsuperop @ rhot_v[300])"
   ]
  },
  {
   "cell_type": "code",
   "execution_count": 666,
   "metadata": {},
   "outputs": [
    {
     "data": {
      "text/plain": [
       "Array(0.00567712+0.00198978j, dtype=complex64)"
      ]
     },
     "execution_count": 666,
     "metadata": {},
     "output_type": "execute_result"
    }
   ],
   "source": [
    "valaux = jnp.trace(\n",
    "    dag(jnp.outer(eigvecs[0], eigvecs[1])) @ unvec(Dsuperop @ rhot_v[300], 2)\n",
    ")\n",
    "valaux"
   ]
  },
  {
   "cell_type": "code",
   "execution_count": null,
   "metadata": {},
   "outputs": [],
   "source": []
  },
  {
   "cell_type": "code",
   "execution_count": null,
   "metadata": {},
   "outputs": [],
   "source": []
  },
  {
   "cell_type": "code",
   "execution_count": null,
   "metadata": {},
   "outputs": [],
   "source": [
    "# First we need to evolve the matrix. Easy\n",
    "# Then we diagonalize jnp.linalg.eig(unvec(evolved_matrix_vec))\n",
    "# Check eigenvalues that are different from zero (how to do this with jax)\n",
    "# For those eigenvalues, compute the projectors.\n",
    "# And then compute the inner product and that shit."
   ]
  },
  {
   "cell_type": "code",
   "execution_count": 550,
   "metadata": {},
   "outputs": [],
   "source": [
    "# list with eigenvalues, [1, 2, 3, 4], we need to check which pairs sum != 0.as_integer_ratio"
   ]
  },
  {
   "cell_type": "code",
   "execution_count": 703,
   "metadata": {},
   "outputs": [],
   "source": [
    "from itertools import  product"
   ]
  },
  {
   "cell_type": "code",
   "execution_count": 912,
   "metadata": {},
   "outputs": [],
   "source": [
    "@jit\n",
    "def generate_index_pairs_list_ev(list_indexes):\n",
    "    return jnp.array(list(product(list(list_indexes), list(list_indexes))))\n",
    "\n",
    "\n",
    "@jit\n",
    "def check_valid_combinations(list_ev, array_index_pairs):\n",
    "    which_combination_append = jax.vmap(\n",
    "        lambda pair: jax.lax.cond(\n",
    "            (lambda x: jnp.isclose(list_ev[x[0]] + list_ev[x[1]], 0))(pair),\n",
    "            lambda pair: False,\n",
    "            lambda pair: True,\n",
    "            pair,\n",
    "        )\n",
    "    )(array_index_pairs)\n",
    "    return which_combination_append\n",
    "\n",
    "\n",
    "@jit\n",
    "def compute_qfim_element_pair(\n",
    "    pair, eigvecs_array, eigvals_array, rhot_v, Dsuperop\n",
    "):\n",
    "    i1, i2 = list(pair)\n",
    "    superket = Dsuperop @ rhot_v\n",
    "    superbra = dag(vec(jnp.kron(eigvecs_array[i1], eigvecs_array[i2])))\n",
    "\n",
    "    aux_val = jnp.dot(superbra, superket)\n",
    "    return (\n",
    "        jnp.absolute(aux_val) ** 2\n",
    "        * eigvals_array[i1]\n",
    "        / (eigvals_array[i1] + eigvals_array[i2]) ** 2\n",
    "    )\n",
    "\n",
    "\n",
    "@jit\n",
    "def qfim_element_pair_condition(\n",
    "    condition, pair, eigvecs_array, eigvals_array, rhot_v, Dsuperop\n",
    "):\n",
    "    return jax.lax.cond(\n",
    "        condition,\n",
    "        lambda value: compute_qfim_element_pair(*value),\n",
    "        lambda value: 0.0,\n",
    "        [pair, eigvecs_array, eigvals_array, rhot_v, Dsuperop],\n",
    "    )\n",
    "\n",
    "\n",
    "@jit\n",
    "def compute_qfim(rho_mat, Dsuperop, t):\n",
    "    # rho_mat = unvec(rho_vec, d)\n",
    "    rho_vec = vec(rho_mat)\n",
    "    eigvals, eigvecs = jnp.linalg.eigh(rho_mat)\n",
    "\n",
    "    ev_indexes_array = jnp.arange(eigvals.shape[0])\n",
    "\n",
    "    index_pairs = generate_index_pairs_list_ev(ev_indexes_array)\n",
    "\n",
    "    valid_pairs = check_valid_combinations(eigvals, index_pairs)\n",
    "\n",
    "    return (\n",
    "        jnp.sum(\n",
    "            jax.vmap(\n",
    "                lambda cond, index_pair: qfim_element_pair_condition(\n",
    "                    cond, index_pair, eigvecs, eigvals, rho_vec, Dsuperop\n",
    "                ),\n",
    "                in_axes=(0, 0),\n",
    "            )(valid_pairs, index_pairs)\n",
    "        )\n",
    "        * 4\n",
    "        * t**2\n",
    "    )"
   ]
  },
  {
   "cell_type": "code",
   "execution_count": 922,
   "metadata": {},
   "outputs": [],
   "source": [
    "rho0 = qt.ket2dm((1 * qt.basis(2, 0) + 0 * qt.basis(2, 1)).unit()).full()\n",
    "\n",
    "omega = 0.2\n",
    "\n",
    "H = omega / 2 * qt.sigmax() + 0.25 / 2 * qt.sigmaz()\n",
    "\n",
    "dissipator = 1 * _make_dissipator(0.1 * jnp.array(qt.sigmam()))\n",
    "\n",
    "\n",
    "L = _make_Lambda(jnp.array(H), 0 * jnp.array(qt.sigmap())) + dissipator\n",
    "\n",
    "# Dsuperop = _make_dissipator(0.1 * jnp.array(qt.sigmaz()))\n",
    "\n",
    "times = jnp.linspace(0, 500, 1000)\n",
    "\n",
    "rhot_v = jax.vmap(lambda t: jnp.einsum(\"ij, j -> i\", expm(L * t), vec(rho0)))(\n",
    "    times\n",
    ")\n",
    "rhot = jax.vmap(lambda a: unvec(a, 2))(rhot_v)"
   ]
  },
  {
   "cell_type": "code",
   "execution_count": 923,
   "metadata": {},
   "outputs": [
    {
     "data": {
      "text/plain": [
       "array([1.+0.j, 0.+0.j, 0.+0.j, 0.+0.j])"
      ]
     },
     "execution_count": 923,
     "metadata": {},
     "output_type": "execute_result"
    }
   ],
   "source": [
    "vec(rho0)"
   ]
  },
  {
   "cell_type": "code",
   "execution_count": 924,
   "metadata": {},
   "outputs": [
    {
     "data": {
      "text/plain": [
       "[<matplotlib.lines.Line2D at 0x77b0dab96350>]"
      ]
     },
     "execution_count": 924,
     "metadata": {},
     "output_type": "execute_result"
    },
    {
     "data": {
      "image/png": "[encoded data removed]",
      "text/plain": [
       "<Figure size 640x480 with 1 Axes>"
      ]
     },
     "metadata": {},
     "output_type": "display_data"
    }
   ],
   "source": [
    "plt.plot(times, jnp.real(rhot[:, 0, 0]))"
   ]
  },
  {
   "cell_type": "code",
   "execution_count": null,
   "metadata": {},
   "outputs": [],
   "source": []
  },
  {
   "cell_type": "code",
   "execution_count": 925,
   "metadata": {},
   "outputs": [
    {
     "data": {
      "text/plain": [
       "[<matplotlib.lines.Line2D at 0x77b0dabe4610>]"
      ]
     },
     "execution_count": 925,
     "metadata": {},
     "output_type": "execute_result"
    },
    {
     "data": {
      "image/png": "[encoded data removed]",
      "text/plain": [
       "<Figure size 640x480 with 1 Axes>"
      ]
     },
     "metadata": {},
     "output_type": "display_data"
    }
   ],
   "source": [
    "plt.plot(\n",
    "    times,\n",
    "    jax.vmap(lambda a, t: compute_qfim(unvec(a, 2), dissipator, t))(\n",
    "        rhot_v, times\n",
    "    ),\n",
    ")"
   ]
  },
  {
   "cell_type": "code",
   "execution_count": 926,
   "metadata": {},
   "outputs": [],
   "source": [
    "eigenvals = (jax.vmap(lambda rho: jnp.linalg.eigh(rho)[0])(rhot))"
   ]
  },
  {
   "cell_type": "code",
   "execution_count": 927,
   "metadata": {},
   "outputs": [
    {
     "data": {
      "text/plain": [
       "Array(0.+0.j, dtype=complex64)"
      ]
     },
     "execution_count": 927,
     "metadata": {},
     "output_type": "execute_result"
    }
   ],
   "source": [
    "jnp.linalg.det(rhot[0])"
   ]
  },
  {
   "cell_type": "code",
   "execution_count": 928,
   "metadata": {},
   "outputs": [
    {
     "data": {
      "text/plain": [
       "[<matplotlib.lines.Line2D at 0x77b0daa23d50>]"
      ]
     },
     "execution_count": 928,
     "metadata": {},
     "output_type": "execute_result"
    },
    {
     "data": {
      "image/png": "[encoded data removed]",
      "text/plain": [
       "<Figure size 640x480 with 1 Axes>"
      ]
     },
     "metadata": {},
     "output_type": "display_data"
    }
   ],
   "source": [
    "plt.plot(jnp.real(jax.vmap(lambda rho: jnp.linalg.det(rho))(rhot)))"
   ]
  },
  {
   "cell_type": "code",
   "execution_count": 929,
   "metadata": {},
   "outputs": [
    {
     "data": {
      "text/plain": [
       "Array(0., dtype=float32)"
      ]
     },
     "execution_count": 929,
     "metadata": {},
     "output_type": "execute_result"
    }
   ],
   "source": [
    "times[jnp.argmin(eigenvals)]"
   ]
  },
  {
   "cell_type": "code",
   "execution_count": 930,
   "metadata": {},
   "outputs": [
    {
     "data": {
      "text/plain": [
       "Array([0., 1.], dtype=float32)"
      ]
     },
     "execution_count": 930,
     "metadata": {},
     "output_type": "execute_result"
    }
   ],
   "source": [
    "eigenvals[jnp.argmin(eigenvals)]"
   ]
  }
 ],
 "metadata": {
  "kernelspec": {
   "display_name": "jax",
   "language": "python",
   "name": "python3"
  },
  "language_info": {
   "codemirror_mode": {
    "name": "ipython",
    "version": 3
   },
   "file_extension": ".py",
   "mimetype": "text/x-python",
   "name": "python",
   "nbconvert_exporter": "python",
   "pygments_lexer": "ipython3",
   "version": "3.11.0"
  }
 },
 "nbformat": 4,
 "nbformat_minor": 2
}
